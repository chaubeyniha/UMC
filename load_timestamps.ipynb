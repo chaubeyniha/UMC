{
 "cells": [
  {
   "cell_type": "code",
   "execution_count": 2,
   "metadata": {},
   "outputs": [],
   "source": [
    "import os\n",
    "\n",
    "directory = 'data/Data/F1/trans'\n",
    "word_timestamps = []\n",
    "index_number = 0"
   ]
  },
  {
   "cell_type": "code",
   "execution_count": 3,
   "metadata": {},
   "outputs": [],
   "source": [
    "# open each file in directory in correct order\n",
    "for filename in sorted(os.listdir(directory)):\n",
    "    '''\n",
    "        Loops through .trans file and takes time stamps per word and creates new txt file with information\n",
    "    '''\n",
    "    f = os.path.join(directory, filename)\n",
    "\n",
    "    with open(f, 'r') as tag_file:\n",
    "        lines = tag_file.read().splitlines()\n",
    "        counter = -1\n",
    "        for x in range(len(lines)-1):\n",
    "            # skips over the silences (n=?)\n",
    "            # and phonemes that are not linked to a word (n=126)\n",
    "            if  (lines[x].split(',')[3] == ''):\n",
    "                continue\n",
    "            \n",
    "            word = lines[x].split(',')[3]\n",
    "            counter += 1\n",
    "            if lines[x+1].split(',')[3] != word:\n",
    "                # counts back to the first phoneme of current word to set start time\n",
    "                start_time = lines[x-counter].split(',')[0]\n",
    "                counter = -1\n",
    "                result = [ index_number, word, start_time, lines[x].split(',')[1], lines[x].split(',')[-1] ]\n",
    "                word_timestamps.append(result)\n",
    "\n",
    "    index_number += 1"
   ]
  },
  {
   "cell_type": "code",
   "execution_count": 4,
   "metadata": {},
   "outputs": [],
   "source": [
    "all_words = []\n",
    "for x in range(len(word_timestamps)):\n",
    "    word = word_timestamps[x][1]\n",
    "    all_words.append(word)\n",
    "\n",
    "unique_words = set(all_words)          "
   ]
  },
  {
   "cell_type": "code",
   "execution_count": 5,
   "metadata": {},
   "outputs": [],
   "source": [
    "with open('timestamps.txt', 'w') as file:\n",
    "    for word_plus_time in word_timestamps:\n",
    "        counter = 1\n",
    "        for elements in word_plus_time:\n",
    "            if counter%5 == 0:\n",
    "                file.write(elements + '\\n')  \n",
    "                counter += 1\n",
    "                continue\n",
    "                \n",
    "            file.write(str(elements) + ',')\n",
    "            counter += 1"
   ]
  }
 ],
 "metadata": {
  "kernelspec": {
   "display_name": "Python 3",
   "language": "python",
   "name": "python3"
  },
  "language_info": {
   "codemirror_mode": {
    "name": "ipython",
    "version": 3
   },
   "file_extension": ".py",
   "mimetype": "text/x-python",
   "name": "python",
   "nbconvert_exporter": "python",
   "pygments_lexer": "ipython3",
   "version": "3.8.5"
  }
 },
 "nbformat": 4,
 "nbformat_minor": 5
}
