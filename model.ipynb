{
 "cells": [
  {
   "cell_type": "code",
   "execution_count": null,
   "id": "16dac5fc",
   "metadata": {},
   "outputs": [],
   "source": [
    "# visualise different fft size\n",
    "# Plot \n"
   ]
  },
  {
   "cell_type": "code",
   "execution_count": 1,
   "id": "b42d4e59",
   "metadata": {},
   "outputs": [
    {
     "name": "stderr",
     "output_type": "stream",
     "text": [
      "2022-05-10 13:56:53.034077: W tensorflow/stream_executor/platform/default/dso_loader.cc:64] Could not load dynamic library 'libcudart.so.11.0'; dlerror: libcudart.so.11.0: cannot open shared object file: No such file or directory\n",
      "2022-05-10 13:56:53.034144: I tensorflow/stream_executor/cuda/cudart_stub.cc:29] Ignore above cudart dlerror if you do not have a GPU set up on your machine.\n"
     ]
    },
    {
     "name": "stdout",
     "output_type": "stream",
     "text": [
      "tf version:  2.8.0\n",
      "tf.keras version: 2.8.0\n"
     ]
    }
   ],
   "source": [
    "import tensorflow as tf\n",
    "# tf.config.list_physical_devices('GPU') is not with GPU\n",
    "tf.test.is_built_with_cuda()\n",
    "\n",
    "print('tf version: ', tf.__version__)\n",
    "print('tf.keras version:', tf.keras.__version__)"
   ]
  },
  {
   "cell_type": "code",
   "execution_count": 8,
   "id": "a223380e",
   "metadata": {},
   "outputs": [],
   "source": [
    "from numpy import array\n",
    "from scipy import stats\n",
    "import numpy as np, pandas as pd\n",
    "import librosa\n",
    "import matplotlib.pyplot as plt\n",
    "from tqdm import tqdm\n",
    "import torch"
   ]
  },
  {
   "cell_type": "code",
   "execution_count": 3,
   "id": "1325bbc9",
   "metadata": {},
   "outputs": [],
   "source": [
    "%store -r ema_frames\n",
    "# del ema_frames[2874]"
   ]
  },
  {
   "cell_type": "code",
   "execution_count": 18,
   "id": "5f2cc45c",
   "metadata": {},
   "outputs": [],
   "source": [
    "# convert raw audio to mel_spectogram\n",
    "def logmelfilterbank(audio,\n",
    "                     sampling_rate,\n",
    "                     fft_size=1024,\n",
    "                     hop_size=220,                                 # too match ema sampling rate\n",
    "                     win_length=None,\n",
    "                     window=\"hann\",\n",
    "                     num_mels=128,\n",
    "                     fmin=None,\n",
    "                     fmax=None,\n",
    "                     eps=1e-10,\n",
    "                     ):\n",
    "    ''' essentially the same as librosa.feature.melspectrogram + log10 '''\n",
    "\n",
    "    # get amplitude spectrogram\n",
    "    x_stft = librosa.stft(audio, n_fft=fft_size, hop_length=hop_size,\n",
    "                          win_length=win_length, window=window, pad_mode=\"reflect\")\n",
    "    spc = np.abs(x_stft).T  # (#frames, #bins)\n",
    "\n",
    "    # get mel basis\n",
    "    fmin = 0 if fmin is None else fmin\n",
    "    fmax = sampling_rate / 2 if fmax is None else fmax\n",
    "    mel_basis = librosa.filters.mel(sampling_rate, fft_size, num_mels, fmin, fmax)\n",
    "\n",
    "    return np.log10(np.maximum(eps, np.dot(spc, mel_basis.T)))"
   ]
  },
  {
   "cell_type": "code",
   "execution_count": 132,
   "id": "5ffd57c1",
   "metadata": {},
   "outputs": [],
   "source": [
    "# get longest and shortest mel spectogram array length >> 28885\n",
    "def get_arr_length(ema_list):\n",
    "    \"\"\"Loads data and tracks longest mel spectogram array\n",
    "    :return counter: the longest length of array\n",
    "    \"\"\"\n",
    "    counter_longest = 0\n",
    "    counter_shortest = 3000 # arbritary number\n",
    "    shapes = []\n",
    "    shape_audio = []\n",
    "    \n",
    "    for i in ema_list:\n",
    "        mel_array = i['Mel'][0] # is array\n",
    "        shapes.append(mel_array.shape[0])\n",
    "        \n",
    "        if mel_array.shape[0] > counter_longest:\n",
    "            counter_longest = mel_array.shape[0]    \n",
    "            \n",
    "        elif mel_array.shape[0] < counter_shortest:\n",
    "            counter_shortest = mel_array.shape[0]\n",
    "            \n",
    "        audio_length = len(i['Audio'][0])\n",
    "        shape_audio.append(audio_length)\n",
    "            \n",
    "    return counter_longest, counter_shortest, shapes, shape_audio\n",
    " \n",
    "longest_mel, shortest_mel, shapes_list, shapes_audio = get_arr_length(ema_frames) # 28885 1102"
   ]
  },
  {
   "cell_type": "code",
   "execution_count": 136,
   "id": "ed2b0eb7",
   "metadata": {},
   "outputs": [
    {
     "data": {
      "text/plain": [
       "3307"
      ]
     },
     "execution_count": 136,
     "metadata": {},
     "output_type": "execute_result"
    }
   ],
   "source": [
    "len(ema_frames[0]['Data'][0])"
   ]
  },
  {
   "cell_type": "code",
   "execution_count": 133,
   "id": "d80ca647",
   "metadata": {},
   "outputs": [
    {
     "data": {
      "image/png": "[encoded data removed]",
      "text/plain": [
       "<Figure size 432x288 with 1 Axes>"
      ]
     },
     "metadata": {
      "needs_background": "light"
     },
     "output_type": "display_data"
    }
   ],
   "source": [
    "#create histogram with 4 bins\n",
    "plt.hist(shapes_audio, bins=None, edgecolor='black'); "
   ]
  },
  {
   "cell_type": "code",
   "execution_count": 138,
   "id": "27c6bdb9",
   "metadata": {},
   "outputs": [
    {
     "data": {
      "image/png": "[encoded data removed]",
      "text/plain": [
       "<Figure size 432x288 with 1 Axes>"
      ]
     },
     "metadata": {
      "needs_background": "light"
     },
     "output_type": "display_data"
    }
   ],
   "source": [
    "# Explore spread of dataset\n",
    "list_array = np.array(shapes_list)\n",
    "description = stats.describe(list_array)\n",
    "\n",
    "#create histogram with 4 bins\n",
    "plt.hist(shapes_list, bins=100, edgecolor='black'); # ';' removes array at the end"
   ]
  },
  {
   "cell_type": "code",
   "execution_count": 131,
   "id": "b1b78aa5",
   "metadata": {},
   "outputs": [
    {
     "data": {
      "text/plain": [
       "DescribeResult(nobs=3434, minmax=(1102, 28885), mean=7217.103086779266, variance=17469164.629043773, skewness=0.8548665093034478, kurtosis=0.35041725812869284)"
      ]
     },
     "execution_count": 131,
     "metadata": {},
     "output_type": "execute_result"
    }
   ],
   "source": [
    "description"
   ]
  },
  {
   "cell_type": "code",
   "execution_count": 142,
   "id": "2c793f93",
   "metadata": {},
   "outputs": [
    {
     "name": "stdout",
     "output_type": "stream",
     "text": [
      "98\n"
     ]
    }
   ],
   "source": [
    "counter = 0\n",
    "for i in range(len(shapes_list)):\n",
    "    if shapes_list[i] < 1800:\n",
    "        counter += 1\n",
    "\n",
    "print(counter)"
   ]
  },
  {
   "cell_type": "code",
   "execution_count": 55,
   "id": "7bd28355",
   "metadata": {},
   "outputs": [
    {
     "name": "stderr",
     "output_type": "stream",
     "text": [
      "/tmp/ipykernel_1892026/1234142278.py:23: FutureWarning: Pass sr=22050, n_fft=1024, n_mels=128, fmin=0, fmax=11025.0 as keyword args. From version 0.10 passing these as positional arguments will result in an error\n",
      "  mel_basis = librosa.filters.mel(sampling_rate, fft_size, num_mels, fmin, fmax)\n"
     ]
    }
   ],
   "source": [
    "def prepare_dataframe(ema_list):\n",
    "    df = pd.DataFrame(columns=['Input', 'Label 1', 'Label 2', 'Label 3', 'Label 4', 'Label 5', 'Label 6',\n",
    "                              'Label 7', 'Label 8', 'Label 9', 'Label 10', 'Label 11', 'Label 12'])\n",
    "    \n",
    "    for i in range(len(ema_list)):\n",
    "        waveform = ema_list[i]['Audio'][0][0].values\n",
    "        mel_arr = logmelfilterbank(waveform, 22050)\n",
    "        # mel_arr = librosa.util.fix_length(ema_list[i]['Mel'][0], size=81) # add padding\n",
    "        \n",
    "        ema_columns = ['ul_0', 'ul_1', 'll_0', 'll_1', 'jw_0', 'jw_1', 'tt_0', 'tt_1', 'tb_0', 'tb_1', 'td_0', 'td_1']\n",
    "        ema_markers = ema_list[i]['Data'][0].loc[:, ema_columns]\n",
    "        ema_arr = (ema_markers.to_numpy()).T\n",
    "        \n",
    "        df = df.append({'Input': mel_arr, 'Label 1': ema_arr[0], 'Label 2': ema_arr[1], 'Label 3': ema_arr[2], \n",
    "                        'Label 4': ema_arr[3], 'Label 5': ema_arr[4], 'Label 6': ema_arr[5], 'Label 7': ema_arr[6], \n",
    "                        'Label 8': ema_arr[7], 'Label 9': ema_arr[8], 'Label 10': ema_arr[9], 'Label 11': ema_arr[10], \n",
    "                        'Label 12': ema_arr[11]}, ignore_index=True)\n",
    "        \n",
    "    return df\n",
    "\n",
    "df = prepare_dataframe(ema_frames)"
   ]
  },
  {
   "cell_type": "code",
   "execution_count": 143,
   "id": "679dd3cd",
   "metadata": {},
   "outputs": [
    {
     "data": {
      "text/html": [
       "<div>\n",
       "<style scoped>\n",
       "    .dataframe tbody tr th:only-of-type {\n",
       "        vertical-align: middle;\n",
       "    }\n",
       "\n",
       "    .dataframe tbody tr th {\n",
       "        vertical-align: top;\n",
       "    }\n",
       "\n",
       "    .dataframe thead th {\n",
       "        text-align: right;\n",
       "    }\n",
       "</style>\n",
       "<table border=\"1\" class=\"dataframe\">\n",
       "  <thead>\n",
       "    <tr style=\"text-align: right;\">\n",
       "      <th></th>\n",
       "      <th>Input</th>\n",
       "      <th>Label 1</th>\n",
       "      <th>Label 2</th>\n",
       "      <th>Label 3</th>\n",
       "      <th>Label 4</th>\n",
       "      <th>Label 5</th>\n",
       "      <th>Label 6</th>\n",
       "      <th>Label 7</th>\n",
       "      <th>Label 8</th>\n",
       "      <th>Label 9</th>\n",
       "      <th>Label 10</th>\n",
       "      <th>Label 11</th>\n",
       "      <th>Label 12</th>\n",
       "    </tr>\n",
       "  </thead>\n",
       "  <tbody>\n",
       "    <tr>\n",
       "      <th>0</th>\n",
       "      <td>[[-2.1773161502548573, -2.0729354141749474, -1...</td>\n",
       "      <td>[10.89374277817683, 11.001506093165823, 11.176...</td>\n",
       "      <td>[-54.95241922475685, -55.0576187099583, -55.17...</td>\n",
       "      <td>[12.654866710154927, 13.165340129090346, 13.72...</td>\n",
       "      <td>[-72.00466245886197, -71.79415059461247, -71.5...</td>\n",
       "      <td>[2.166364848508465, 2.363230039471908, 2.56833...</td>\n",
       "      <td>[-73.33312688693997, -73.00809998039819, -72.7...</td>\n",
       "      <td>[-16.550200600036078, -16.55620477323702, -16....</td>\n",
       "      <td>[-57.51771886341167, -57.32548023027968, -57.1...</td>\n",
       "      <td>[-25.055502183694706, -25.100856703174014, -25...</td>\n",
       "      <td>[-56.866210424151554, -56.905339538513104, -56...</td>\n",
       "      <td>[-37.40945501160245, -37.33902406840785, -37.2...</td>\n",
       "      <td>[-57.02407280724619, -56.97999527675847, -56.8...</td>\n",
       "    </tr>\n",
       "    <tr>\n",
       "      <th>1</th>\n",
       "      <td>[[-2.4716038606643194, -2.5584820298128594, -2...</td>\n",
       "      <td>[11.809084230162114, 11.723555232556144, 11.57...</td>\n",
       "      <td>[-56.398404845166276, -56.432528407999826, -56...</td>\n",
       "      <td>[14.663094312440947, 14.490432325234863, 14.27...</td>\n",
       "      <td>[-66.27026843722808, -66.65856731361316, -67.2...</td>\n",
       "      <td>[3.1410633466599407, 3.0754529534401343, 2.994...</td>\n",
       "      <td>[-72.73552640693092, -72.73957398322365, -72.7...</td>\n",
       "      <td>[-16.270734123261988, -16.357547491775748, -16...</td>\n",
       "      <td>[-57.88192371616016, -58.03931104054019, -58.0...</td>\n",
       "      <td>[-24.613487613988664, -24.66660445948304, -24....</td>\n",
       "      <td>[-56.830295000960064, -57.12944927661218, -57....</td>\n",
       "      <td>[-35.91486872546839, -35.91459058631878, -35.9...</td>\n",
       "      <td>[-52.87919255200511, -53.058490229356266, -53....</td>\n",
       "    </tr>\n",
       "    <tr>\n",
       "      <th>2</th>\n",
       "      <td>[[-2.1391568377049968, -2.565776253147945, -2....</td>\n",
       "      <td>[10.466399577019835, 10.416226476680293, 10.38...</td>\n",
       "      <td>[-54.77015032984953, -54.72950075016548, -54.6...</td>\n",
       "      <td>[13.364772411821662, 13.340772885568555, 13.36...</td>\n",
       "      <td>[-71.74008231257187, -71.79891042980364, -71.7...</td>\n",
       "      <td>[3.02042613040679, 2.9740176452850804, 2.95166...</td>\n",
       "      <td>[-73.17057662956282, -73.27982090774478, -73.3...</td>\n",
       "      <td>[-15.186480492714026, -15.193329799741505, -15...</td>\n",
       "      <td>[-54.59264539522232, -54.56081302070056, -54.5...</td>\n",
       "      <td>[-23.132527340016296, -23.055928781257848, -22...</td>\n",
       "      <td>[-51.439184817140855, -51.24653188661652, -51....</td>\n",
       "      <td>[-35.05938992056219, -34.94061025033986, -34.8...</td>\n",
       "      <td>[-49.27247504025827, -48.92138399705975, -48.6...</td>\n",
       "    </tr>\n",
       "    <tr>\n",
       "      <th>3</th>\n",
       "      <td>[[-1.9764676403317656, -1.937032802189566, -1....</td>\n",
       "      <td>[10.217773989562751, 10.256027786766275, 10.28...</td>\n",
       "      <td>[-55.27834184848835, -55.32930850243629, -55.3...</td>\n",
       "      <td>[10.869827042643564, 10.922383320318197, 10.96...</td>\n",
       "      <td>[-65.83837226094835, -65.65830355592709, -65.5...</td>\n",
       "      <td>[1.600864834652036, 1.613312193453119, 1.61082...</td>\n",
       "      <td>[-74.04573958086606, -73.98534120128303, -73.9...</td>\n",
       "      <td>[-18.64181022224973, -19.250265851300846, -19....</td>\n",
       "      <td>[-55.10376459125078, -55.43588412425358, -55.6...</td>\n",
       "      <td>[-26.162713085133312, -26.86686313728438, -27....</td>\n",
       "      <td>[-50.84595091103594, -51.324958160609825, -51....</td>\n",
       "      <td>[-38.25811240289116, -38.896045387139374, -39....</td>\n",
       "      <td>[-50.4202541695702, -51.2433829340517, -52.004...</td>\n",
       "    </tr>\n",
       "    <tr>\n",
       "      <th>4</th>\n",
       "      <td>[[-1.8973794736169127, -2.420703560711296, -3....</td>\n",
       "      <td>[11.052581440376024, 11.052711004937677, 11.03...</td>\n",
       "      <td>[-56.21419678272865, -56.204493893301596, -56....</td>\n",
       "      <td>[10.50383901953812, 10.352811754243916, 10.213...</td>\n",
       "      <td>[-75.50656662667396, -76.22336237886411, -76.8...</td>\n",
       "      <td>[-0.1571443019234806, -0.24600237903768374, -0...</td>\n",
       "      <td>[-77.46538924836597, -77.73119279417722, -77.9...</td>\n",
       "      <td>[-21.004184911346954, -20.445948128418365, -20...</td>\n",
       "      <td>[-62.31286664378765, -63.45488599800156, -64.4...</td>\n",
       "      <td>[-28.867150196768605, -28.308838260760552, -27...</td>\n",
       "      <td>[-58.088366776490325, -59.32882298278157, -60....</td>\n",
       "      <td>[-41.90741077573434, -41.467729528756514, -41....</td>\n",
       "      <td>[-57.40268816144802, -58.04702174386396, -58.7...</td>\n",
       "    </tr>\n",
       "    <tr>\n",
       "      <th>...</th>\n",
       "      <td>...</td>\n",
       "      <td>...</td>\n",
       "      <td>...</td>\n",
       "      <td>...</td>\n",
       "      <td>...</td>\n",
       "      <td>...</td>\n",
       "      <td>...</td>\n",
       "      <td>...</td>\n",
       "      <td>...</td>\n",
       "      <td>...</td>\n",
       "      <td>...</td>\n",
       "      <td>...</td>\n",
       "      <td>...</td>\n",
       "    </tr>\n",
       "    <tr>\n",
       "      <th>3429</th>\n",
       "      <td>[[-2.0087888445884627, -1.834772161745511, -1....</td>\n",
       "      <td>[13.763896414269574, 13.78589200389144, 13.825...</td>\n",
       "      <td>[-57.290829054600565, -57.329635849438546, -57...</td>\n",
       "      <td>[13.539506446306326, 13.353721454246305, 13.04...</td>\n",
       "      <td>[-72.1246707039275, -72.37490591943327, -72.80...</td>\n",
       "      <td>[-1.6091613850563213, -1.6032943690867825, -1....</td>\n",
       "      <td>[-75.6526054724433, -75.83411001556661, -76.05...</td>\n",
       "      <td>[-23.468885215112543, -23.93776216394768, -24....</td>\n",
       "      <td>[-58.040147463526694, -57.87369319254686, -57....</td>\n",
       "      <td>[-30.426462468052396, -30.865031435674272, -31...</td>\n",
       "      <td>[-52.832101326198554, -52.82535248442364, -52....</td>\n",
       "      <td>[-42.848922073771575, -43.145675879975045, -43...</td>\n",
       "      <td>[-49.604165218636915, -49.73614104696284, -49....</td>\n",
       "    </tr>\n",
       "    <tr>\n",
       "      <th>3430</th>\n",
       "      <td>[[-2.5345780957447173, -2.280691179758759, -2....</td>\n",
       "      <td>[11.226296712062876, 11.082166464613735, 10.94...</td>\n",
       "      <td>[-52.59771525650897, -52.75067573906459, -52.8...</td>\n",
       "      <td>[14.35690746550759, 13.973048541143015, 13.505...</td>\n",
       "      <td>[-72.57568224931393, -72.95341172444498, -73.3...</td>\n",
       "      <td>[1.8359901615419183, 1.586534424001588, 1.3239...</td>\n",
       "      <td>[-73.50745989060084, -73.87333503616048, -74.2...</td>\n",
       "      <td>[-13.931371494041581, -13.828764409295914, -13...</td>\n",
       "      <td>[-55.90141313766377, -56.36834673420292, -56.7...</td>\n",
       "      <td>[-22.50297972655197, -22.239477138368358, -22....</td>\n",
       "      <td>[-52.10870073471947, -52.04637216849214, -51.9...</td>\n",
       "      <td>[-35.877459412757915, -35.63289928811247, -35....</td>\n",
       "      <td>[-50.79509709207972, -50.10878927182058, -49.4...</td>\n",
       "    </tr>\n",
       "    <tr>\n",
       "      <th>3431</th>\n",
       "      <td>[[-2.474532406107205, -2.483233364081518, -2.5...</td>\n",
       "      <td>[12.138610672563594, 12.453105996764926, 12.81...</td>\n",
       "      <td>[-53.11794329841318, -52.91409168587042, -52.7...</td>\n",
       "      <td>[16.13985328345511, 16.377921588938257, 16.541...</td>\n",
       "      <td>[-69.5803201946187, -69.69402779732506, -69.91...</td>\n",
       "      <td>[2.7241950751781303, 2.8494286871619323, 2.931...</td>\n",
       "      <td>[-73.0055510791001, -73.01582794716371, -73.02...</td>\n",
       "      <td>[-21.310343640446792, -21.07435064501943, -20....</td>\n",
       "      <td>[-51.00175699279733, -51.14810852636984, -51.3...</td>\n",
       "      <td>[-29.394114375247046, -29.14370339194661, -28....</td>\n",
       "      <td>[-49.31609596082157, -49.40644359977471, -49.5...</td>\n",
       "      <td>[-40.64539024300632, -40.37441022425308, -40.0...</td>\n",
       "      <td>[-52.91791332255861, -53.108930466819146, -53....</td>\n",
       "    </tr>\n",
       "    <tr>\n",
       "      <th>3432</th>\n",
       "      <td>[[-1.8764392168513644, -1.8057513658514304, -2...</td>\n",
       "      <td>[12.227132801080216, 12.178227861766537, 12.16...</td>\n",
       "      <td>[-54.126858511972635, -54.37819018723938, -54....</td>\n",
       "      <td>[15.538507800371619, 15.368778999634664, 15.11...</td>\n",
       "      <td>[-68.88840476746012, -68.81166276093929, -68.9...</td>\n",
       "      <td>[2.5577145988156857, 2.558801114027901, 2.4271...</td>\n",
       "      <td>[-72.7682669913375, -72.83081659302749, -73.06...</td>\n",
       "      <td>[-15.524417344747778, -15.648348895288958, -15...</td>\n",
       "      <td>[-58.26003931853014, -58.58721432427388, -58.9...</td>\n",
       "      <td>[-23.67132159953827, -23.70940101472127, -23.8...</td>\n",
       "      <td>[-58.253043395426246, -58.37077745023955, -58....</td>\n",
       "      <td>[-36.04266223398652, -36.19581843672424, -36.3...</td>\n",
       "      <td>[-57.7581324413972, -57.545524276529285, -57.3...</td>\n",
       "    </tr>\n",
       "    <tr>\n",
       "      <th>3433</th>\n",
       "      <td>[[-1.7544550488933859, -2.0817295306182793, -2...</td>\n",
       "      <td>[12.387824051692377, 12.43922695945814, 12.481...</td>\n",
       "      <td>[-53.94617389668264, -53.992489225751, -54.013...</td>\n",
       "      <td>[14.269564160558488, 14.271708505801612, 14.22...</td>\n",
       "      <td>[-69.48757015944105, -69.39571794288467, -69.2...</td>\n",
       "      <td>[1.4412345988821258, 1.4607779930393967, 1.487...</td>\n",
       "      <td>[-74.66915209027748, -74.62066672171282, -74.6...</td>\n",
       "      <td>[-17.50343326884196, -17.442884982106367, -17....</td>\n",
       "      <td>[-54.50673153573779, -54.8821762408702, -55.31...</td>\n",
       "      <td>[-24.877115975167573, -24.751363521042894, -24...</td>\n",
       "      <td>[-49.120597587004724, -49.41467189644914, -49....</td>\n",
       "      <td>[-37.844078582231035, -37.63388977884742, -37....</td>\n",
       "      <td>[-47.158183898457764, -47.20299123566165, -47....</td>\n",
       "    </tr>\n",
       "  </tbody>\n",
       "</table>\n",
       "<p>3434 rows × 13 columns</p>\n",
       "</div>"
      ],
      "text/plain": [
       "                                                  Input  \\\n",
       "0     [[-2.1773161502548573, -2.0729354141749474, -1...   \n",
       "1     [[-2.4716038606643194, -2.5584820298128594, -2...   \n",
       "2     [[-2.1391568377049968, -2.565776253147945, -2....   \n",
       "3     [[-1.9764676403317656, -1.937032802189566, -1....   \n",
       "4     [[-1.8973794736169127, -2.420703560711296, -3....   \n",
       "...                                                 ...   \n",
       "3429  [[-2.0087888445884627, -1.834772161745511, -1....   \n",
       "3430  [[-2.5345780957447173, -2.280691179758759, -2....   \n",
       "3431  [[-2.474532406107205, -2.483233364081518, -2.5...   \n",
       "3432  [[-1.8764392168513644, -1.8057513658514304, -2...   \n",
       "3433  [[-1.7544550488933859, -2.0817295306182793, -2...   \n",
       "\n",
       "                                                Label 1  \\\n",
       "0     [10.89374277817683, 11.001506093165823, 11.176...   \n",
       "1     [11.809084230162114, 11.723555232556144, 11.57...   \n",
       "2     [10.466399577019835, 10.416226476680293, 10.38...   \n",
       "3     [10.217773989562751, 10.256027786766275, 10.28...   \n",
       "4     [11.052581440376024, 11.052711004937677, 11.03...   \n",
       "...                                                 ...   \n",
       "3429  [13.763896414269574, 13.78589200389144, 13.825...   \n",
       "3430  [11.226296712062876, 11.082166464613735, 10.94...   \n",
       "3431  [12.138610672563594, 12.453105996764926, 12.81...   \n",
       "3432  [12.227132801080216, 12.178227861766537, 12.16...   \n",
       "3433  [12.387824051692377, 12.43922695945814, 12.481...   \n",
       "\n",
       "                                                Label 2  \\\n",
       "0     [-54.95241922475685, -55.0576187099583, -55.17...   \n",
       "1     [-56.398404845166276, -56.432528407999826, -56...   \n",
       "2     [-54.77015032984953, -54.72950075016548, -54.6...   \n",
       "3     [-55.27834184848835, -55.32930850243629, -55.3...   \n",
       "4     [-56.21419678272865, -56.204493893301596, -56....   \n",
       "...                                                 ...   \n",
       "3429  [-57.290829054600565, -57.329635849438546, -57...   \n",
       "3430  [-52.59771525650897, -52.75067573906459, -52.8...   \n",
       "3431  [-53.11794329841318, -52.91409168587042, -52.7...   \n",
       "3432  [-54.126858511972635, -54.37819018723938, -54....   \n",
       "3433  [-53.94617389668264, -53.992489225751, -54.013...   \n",
       "\n",
       "                                                Label 3  \\\n",
       "0     [12.654866710154927, 13.165340129090346, 13.72...   \n",
       "1     [14.663094312440947, 14.490432325234863, 14.27...   \n",
       "2     [13.364772411821662, 13.340772885568555, 13.36...   \n",
       "3     [10.869827042643564, 10.922383320318197, 10.96...   \n",
       "4     [10.50383901953812, 10.352811754243916, 10.213...   \n",
       "...                                                 ...   \n",
       "3429  [13.539506446306326, 13.353721454246305, 13.04...   \n",
       "3430  [14.35690746550759, 13.973048541143015, 13.505...   \n",
       "3431  [16.13985328345511, 16.377921588938257, 16.541...   \n",
       "3432  [15.538507800371619, 15.368778999634664, 15.11...   \n",
       "3433  [14.269564160558488, 14.271708505801612, 14.22...   \n",
       "\n",
       "                                                Label 4  \\\n",
       "0     [-72.00466245886197, -71.79415059461247, -71.5...   \n",
       "1     [-66.27026843722808, -66.65856731361316, -67.2...   \n",
       "2     [-71.74008231257187, -71.79891042980364, -71.7...   \n",
       "3     [-65.83837226094835, -65.65830355592709, -65.5...   \n",
       "4     [-75.50656662667396, -76.22336237886411, -76.8...   \n",
       "...                                                 ...   \n",
       "3429  [-72.1246707039275, -72.37490591943327, -72.80...   \n",
       "3430  [-72.57568224931393, -72.95341172444498, -73.3...   \n",
       "3431  [-69.5803201946187, -69.69402779732506, -69.91...   \n",
       "3432  [-68.88840476746012, -68.81166276093929, -68.9...   \n",
       "3433  [-69.48757015944105, -69.39571794288467, -69.2...   \n",
       "\n",
       "                                                Label 5  \\\n",
       "0     [2.166364848508465, 2.363230039471908, 2.56833...   \n",
       "1     [3.1410633466599407, 3.0754529534401343, 2.994...   \n",
       "2     [3.02042613040679, 2.9740176452850804, 2.95166...   \n",
       "3     [1.600864834652036, 1.613312193453119, 1.61082...   \n",
       "4     [-0.1571443019234806, -0.24600237903768374, -0...   \n",
       "...                                                 ...   \n",
       "3429  [-1.6091613850563213, -1.6032943690867825, -1....   \n",
       "3430  [1.8359901615419183, 1.586534424001588, 1.3239...   \n",
       "3431  [2.7241950751781303, 2.8494286871619323, 2.931...   \n",
       "3432  [2.5577145988156857, 2.558801114027901, 2.4271...   \n",
       "3433  [1.4412345988821258, 1.4607779930393967, 1.487...   \n",
       "\n",
       "                                                Label 6  \\\n",
       "0     [-73.33312688693997, -73.00809998039819, -72.7...   \n",
       "1     [-72.73552640693092, -72.73957398322365, -72.7...   \n",
       "2     [-73.17057662956282, -73.27982090774478, -73.3...   \n",
       "3     [-74.04573958086606, -73.98534120128303, -73.9...   \n",
       "4     [-77.46538924836597, -77.73119279417722, -77.9...   \n",
       "...                                                 ...   \n",
       "3429  [-75.6526054724433, -75.83411001556661, -76.05...   \n",
       "3430  [-73.50745989060084, -73.87333503616048, -74.2...   \n",
       "3431  [-73.0055510791001, -73.01582794716371, -73.02...   \n",
       "3432  [-72.7682669913375, -72.83081659302749, -73.06...   \n",
       "3433  [-74.66915209027748, -74.62066672171282, -74.6...   \n",
       "\n",
       "                                                Label 7  \\\n",
       "0     [-16.550200600036078, -16.55620477323702, -16....   \n",
       "1     [-16.270734123261988, -16.357547491775748, -16...   \n",
       "2     [-15.186480492714026, -15.193329799741505, -15...   \n",
       "3     [-18.64181022224973, -19.250265851300846, -19....   \n",
       "4     [-21.004184911346954, -20.445948128418365, -20...   \n",
       "...                                                 ...   \n",
       "3429  [-23.468885215112543, -23.93776216394768, -24....   \n",
       "3430  [-13.931371494041581, -13.828764409295914, -13...   \n",
       "3431  [-21.310343640446792, -21.07435064501943, -20....   \n",
       "3432  [-15.524417344747778, -15.648348895288958, -15...   \n",
       "3433  [-17.50343326884196, -17.442884982106367, -17....   \n",
       "\n",
       "                                                Label 8  \\\n",
       "0     [-57.51771886341167, -57.32548023027968, -57.1...   \n",
       "1     [-57.88192371616016, -58.03931104054019, -58.0...   \n",
       "2     [-54.59264539522232, -54.56081302070056, -54.5...   \n",
       "3     [-55.10376459125078, -55.43588412425358, -55.6...   \n",
       "4     [-62.31286664378765, -63.45488599800156, -64.4...   \n",
       "...                                                 ...   \n",
       "3429  [-58.040147463526694, -57.87369319254686, -57....   \n",
       "3430  [-55.90141313766377, -56.36834673420292, -56.7...   \n",
       "3431  [-51.00175699279733, -51.14810852636984, -51.3...   \n",
       "3432  [-58.26003931853014, -58.58721432427388, -58.9...   \n",
       "3433  [-54.50673153573779, -54.8821762408702, -55.31...   \n",
       "\n",
       "                                                Label 9  \\\n",
       "0     [-25.055502183694706, -25.100856703174014, -25...   \n",
       "1     [-24.613487613988664, -24.66660445948304, -24....   \n",
       "2     [-23.132527340016296, -23.055928781257848, -22...   \n",
       "3     [-26.162713085133312, -26.86686313728438, -27....   \n",
       "4     [-28.867150196768605, -28.308838260760552, -27...   \n",
       "...                                                 ...   \n",
       "3429  [-30.426462468052396, -30.865031435674272, -31...   \n",
       "3430  [-22.50297972655197, -22.239477138368358, -22....   \n",
       "3431  [-29.394114375247046, -29.14370339194661, -28....   \n",
       "3432  [-23.67132159953827, -23.70940101472127, -23.8...   \n",
       "3433  [-24.877115975167573, -24.751363521042894, -24...   \n",
       "\n",
       "                                               Label 10  \\\n",
       "0     [-56.866210424151554, -56.905339538513104, -56...   \n",
       "1     [-56.830295000960064, -57.12944927661218, -57....   \n",
       "2     [-51.439184817140855, -51.24653188661652, -51....   \n",
       "3     [-50.84595091103594, -51.324958160609825, -51....   \n",
       "4     [-58.088366776490325, -59.32882298278157, -60....   \n",
       "...                                                 ...   \n",
       "3429  [-52.832101326198554, -52.82535248442364, -52....   \n",
       "3430  [-52.10870073471947, -52.04637216849214, -51.9...   \n",
       "3431  [-49.31609596082157, -49.40644359977471, -49.5...   \n",
       "3432  [-58.253043395426246, -58.37077745023955, -58....   \n",
       "3433  [-49.120597587004724, -49.41467189644914, -49....   \n",
       "\n",
       "                                               Label 11  \\\n",
       "0     [-37.40945501160245, -37.33902406840785, -37.2...   \n",
       "1     [-35.91486872546839, -35.91459058631878, -35.9...   \n",
       "2     [-35.05938992056219, -34.94061025033986, -34.8...   \n",
       "3     [-38.25811240289116, -38.896045387139374, -39....   \n",
       "4     [-41.90741077573434, -41.467729528756514, -41....   \n",
       "...                                                 ...   \n",
       "3429  [-42.848922073771575, -43.145675879975045, -43...   \n",
       "3430  [-35.877459412757915, -35.63289928811247, -35....   \n",
       "3431  [-40.64539024300632, -40.37441022425308, -40.0...   \n",
       "3432  [-36.04266223398652, -36.19581843672424, -36.3...   \n",
       "3433  [-37.844078582231035, -37.63388977884742, -37....   \n",
       "\n",
       "                                               Label 12  \n",
       "0     [-57.02407280724619, -56.97999527675847, -56.8...  \n",
       "1     [-52.87919255200511, -53.058490229356266, -53....  \n",
       "2     [-49.27247504025827, -48.92138399705975, -48.6...  \n",
       "3     [-50.4202541695702, -51.2433829340517, -52.004...  \n",
       "4     [-57.40268816144802, -58.04702174386396, -58.7...  \n",
       "...                                                 ...  \n",
       "3429  [-49.604165218636915, -49.73614104696284, -49....  \n",
       "3430  [-50.79509709207972, -50.10878927182058, -49.4...  \n",
       "3431  [-52.91791332255861, -53.108930466819146, -53....  \n",
       "3432  [-57.7581324413972, -57.545524276529285, -57.3...  \n",
       "3433  [-47.158183898457764, -47.20299123566165, -47....  \n",
       "\n",
       "[3434 rows x 13 columns]"
      ]
     },
     "execution_count": 143,
     "metadata": {},
     "output_type": "execute_result"
    }
   ],
   "source": [
    "df"
   ]
  },
  {
   "cell_type": "code",
   "execution_count": 95,
   "id": "1d161f93",
   "metadata": {},
   "outputs": [],
   "source": [
    "import torch.nn as nn\n",
    "import torch\n",
    "from sklearn.model_selection import train_test_split"
   ]
  },
  {
   "cell_type": "code",
   "execution_count": 87,
   "id": "2c8c4eed",
   "metadata": {},
   "outputs": [],
   "source": [
    "train, test = train_test_split(df, test_size=0.3, random_state=42, shuffle=True)"
   ]
  },
  {
   "cell_type": "code",
   "execution_count": 93,
   "id": "8f37b887",
   "metadata": {},
   "outputs": [
    {
     "name": "stdout",
     "output_type": "stream",
     "text": [
      "Size of training data: (2403, 13)\n",
      "Size of test data: (1031, 13)\n"
     ]
    }
   ],
   "source": [
    "print(f'Size of training data: {train.shape}')\n",
    "print(f'Size of test data: {test.shape}')"
   ]
  },
  {
   "cell_type": "code",
   "execution_count": null,
   "id": "f155f103",
   "metadata": {},
   "outputs": [],
   "source": [
    "# parameters per layer (4)\n",
    "# mel = trained on mel spectrogram\n",
    "\n",
    "model_parameters = {\n",
    "    'input_channels' : 128,\n",
    "    'output_channels' : 1024,\n",
    "    'kernel_size' : 61, 5, 3, 3, # in time domain\n",
    "    'stride' : 2, 1, 1, 1, # in the frequency domain\n",
    "    'drop_out' : 0.2, 0.3, 0.3             \n",
    "}"
   ]
  },
  {
   "cell_type": "code",
   "execution_count": 96,
   "id": "a20abd30",
   "metadata": {
    "scrolled": true
   },
   "outputs": [],
   "source": [
    "# Fully convoltional neural network class (Pytorch Module instance)\n"
   ]
  },
  {
   "cell_type": "code",
   "execution_count": null,
   "id": "14091bfa",
   "metadata": {},
   "outputs": [],
   "source": []
  }
 ],
 "metadata": {
  "kernelspec": {
   "display_name": "myusc",
   "language": "python",
   "name": "myusc"
  },
  "language_info": {
   "codemirror_mode": {
    "name": "ipython",
    "version": 3
   },
   "file_extension": ".py",
   "mimetype": "text/x-python",
   "name": "python",
   "nbconvert_exporter": "python",
   "pygments_lexer": "ipython3",
   "version": "3.9.5"
  }
 },
 "nbformat": 4,
 "nbformat_minor": 5
}
