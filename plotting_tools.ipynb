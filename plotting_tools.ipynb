{
 "cells": [
  {
   "cell_type": "code",
   "execution_count": null,
   "metadata": {},
   "outputs": [],
   "source": [
    "import numpy as np\n",
    "import matplotlib.pyplot as plt\n",
    "import matplotlib.animation as animation\n",
    "from mpl_toolkits.mplot3d import Axes3D"
   ]
  },
  {
   "cell_type": "code",
   "execution_count": null,
   "metadata": {},
   "outputs": [],
   "source": [
    " # ANIMATION FUNCTION\n",
    "def func(num, dataSet, line, redDots):\n",
    "    # NOTE: there is no .set_data() for 3 dim data...\n",
    "    line.set_data(dataSet[0:2, :num])    \n",
    "    line.set_3d_properties(dataSet[2, :num])    \n",
    "    redDots.set_data(dataSet[0:2, :num])    \n",
    "    redDots.set_3d_properties(dataSet[2, :num]) \n",
    "    return line\n",
    "\n",
    "numDataPoints = len(t)\n",
    " \n",
    "# GET SOME MATPLOTLIB OBJECTS\n",
    "fig = plt.figure()\n",
    "ax = Axes3D(fig)\n",
    "redDots = plt.plot(dataSet[0], dataSet[1], dataSet[2], lw=2, c='r', marker='o')[0] # For scatter plot\n",
    "# NOTE: Can't pass empty arrays into 3d version of plot()\n",
    "line = plt.plot(dataSet[0], dataSet[1], dataSet[2], lw=2, c='g')[0] # For line plot\n",
    " \n",
    "# AXES PROPERTIES]\n",
    "# ax.set_xlim3d([limit0, limit1])\n",
    "ax.set_xlabel('X(t)')\n",
    "ax.set_ylabel('Y(t)')\n",
    "ax.set_zlabel('time')\n",
    "ax.set_title('Trajectory of electron for E vector along [120]')\n",
    " \n",
    "# Creating the Animation object\n",
    "line_ani = animation.FuncAnimation(fig, func, frames=numDataPoints, fargs=(dataSet,line,redDots), interval=50, blit=False)\n",
    "# line_ani.save(r'Animation.mp4')\n",
    " \n",
    " \n",
    "plt.show()"
   ]
  },
  {
   "cell_type": "code",
   "execution_count": null,
   "metadata": {},
   "outputs": [],
   "source": [
    "fig = plt.figure()\n",
    "        ax = fig.add_subplot(111, projection='3d')\n",
    "        ax.plot_trisurf(UL_df[int(split_line[0])][0][starting_point:end_point], \n",
    "                        UL_df[int(split_line[0])][1][starting_point:end_point], \n",
    "                        UL_df[int(split_line[0])][2][starting_point:end_point], \n",
    "                        color='white', alpha=0.5)\n",
    "        ax.scatter(UL_df[int(split_line[0])][0][starting_point:end_point], \n",
    "                   UL_df[int(split_line[0])][1][starting_point:end_point],\n",
    "                   UL_df[int(split_line[0])][2][starting_point:end_point], c='red')\n",
    "        plt.show()"
   ]
  },
  {
   "cell_type": "code",
   "execution_count": null,
   "metadata": {},
   "outputs": [],
   "source": [
    "# plot the values in spectogram\n",
    "mel_signal = logmelfilterbank(new_file, 22050)\n",
    "\n",
    "librosa.display.specshow(mel_signal.T, sr=22050, x_axis='time', y_axis='mel', cmap='magma', \n",
    " hop_length=512)\n",
    "plt.colorbar(label='dB')\n",
    "plt.title('Mel-Spectrogram (dB)', fontdict=dict(size=18))\n",
    "plt.xlabel('Time', fontdict=dict(size=15))\n",
    "plt.ylabel('Frequency', fontdict=dict(size=15))\n",
    "plt.show()"
   ]
  },
  {
   "cell_type": "code",
   "execution_count": null,
   "metadata": {},
   "outputs": [],
   "source": [
    "print(\"Total data frames = \", len(ema_frames))\n",
    "print(\"Shape of Audio the 70th word = \", len(ema_frames[70]['Audio'][0][0]))\n",
    "\n",
    "# plot wave by audio frame of first word\n",
    "plt.figure(figsize=(16, 3))\n",
    "plt.plot(ema_frames[12]['Audio'][0][0], '-', )"
   ]
  }
 ],
 "metadata": {
  "kernelspec": {
   "display_name": "Python 3",
   "language": "python",
   "name": "python3"
  },
  "language_info": {
   "codemirror_mode": {
    "name": "ipython",
    "version": 3
   },
   "file_extension": ".py",
   "mimetype": "text/x-python",
   "name": "python",
   "nbconvert_exporter": "python",
   "pygments_lexer": "ipython3",
   "version": "3.8.13"
  }
 },
 "nbformat": 4,
 "nbformat_minor": 4
}
