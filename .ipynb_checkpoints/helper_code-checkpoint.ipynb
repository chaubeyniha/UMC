{
 "cells": [
  {
   "cell_type": "code",
   "execution_count": null,
   "metadata": {},
   "outputs": [],
   "source": [
    "# add padding if duration of wav is shorter then threshold then add padding to file\n",
    "input_length = 405821 + 5000\n",
    "if(round(dur) < 20): # arbritary number\n",
    "    y = librosa.util.fix_length(signal, input_length) \n",
    "print(y.shape)\n",
    "plt.figure(figsize=(16, 3))\n",
    "librosa.display.waveshow(y, sr=sr)"
   ]
  },
  {
   "cell_type": "code",
   "execution_count": null,
   "metadata": {},
   "outputs": [],
   "source": [
    "# create mini train set (no need to normalise)\n",
    "import random\n",
    "\n",
    "batch_size = 20\n",
    "list_random_df = random.sample(ema_frames,batch_size)\n",
    "\n",
    "mini_train_set = list()\n",
    "\n",
    "for i in list_random_df:\n",
    "    tensor = torch.tensor(np.array(i['Audio'][0]))\n",
    "    print(\"Array Type: {}\".format(tensor.type)) # type\n",
    "    print(\"Array Shape: {}\".format(tensor.shape)) # shape\n",
    "    print(tensor)"
   ]
  }
 ],
 "metadata": {
  "kernelspec": {
   "display_name": "Python 3",
   "language": "python",
   "name": "python3"
  },
  "language_info": {
   "codemirror_mode": {
    "name": "ipython",
    "version": 3
   },
   "file_extension": ".py",
   "mimetype": "text/x-python",
   "name": "python",
   "nbconvert_exporter": "python",
   "pygments_lexer": "ipython3",
   "version": "3.8.5"
  }
 },
 "nbformat": 4,
 "nbformat_minor": 4
}
