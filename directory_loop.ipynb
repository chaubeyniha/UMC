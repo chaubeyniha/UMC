{
 "cells": [
  {
   "cell_type": "code",
   "execution_count": 1,
   "metadata": {},
   "outputs": [],
   "source": [
    "import scipy.io\n",
    "import os\n",
    "import pandas as pd"
   ]
  },
  {
   "cell_type": "code",
   "execution_count": 2,
   "metadata": {},
   "outputs": [],
   "source": [
    "directory = 'data/Data/F1/mat'\n",
    "counter = 1\n",
    "ul_df, ll_df, jw_df, td_df, tb_df, tt_df = [], [], [], [], [], []\n",
    "\n",
    "for filename in sorted(os.listdir(directory)):\n",
    "    ''' \n",
    "        Goes through one partcipants .mat files and adds all information to one dataframe\n",
    "    ''' \n",
    "    if filename.endswith('.mat'):\n",
    "        f = os.path.join(directory, filename)\n",
    "        mat = scipy.io.loadmat(f)\n",
    "        \n",
    "        # takes the data that is stored at the following key\n",
    "        data = mat['usctimit_ema_f1_{:03}_{:03}'.format(counter, counter + 4)]\n",
    "        counter += 5\n",
    "\n",
    "        # makes dataframes of the six electrodes\n",
    "        ul_df.append(pd.DataFrame.from_dict(data[0][1][2]))\n",
    "        ll_df.append(pd.DataFrame.from_dict(data[0][2][2]))\n",
    "        jw_df.append(pd.DataFrame.from_dict(data[0][3][2]))\n",
    "        td_df.append(pd.DataFrame.from_dict(data[0][4][2]))\n",
    "        tb_df.append(pd.DataFrame.from_dict(data[0][5][2]))\n",
    "        tt_df.append(pd.DataFrame.from_dict(data[0][6][2]))"
   ]
  }
 ],
 "metadata": {
  "kernelspec": {
   "display_name": "Python 3",
   "language": "python",
   "name": "python3"
  },
  "language_info": {
   "codemirror_mode": {
    "name": "ipython",
    "version": 3
   },
   "file_extension": ".py",
   "mimetype": "text/x-python",
   "name": "python",
   "nbconvert_exporter": "python",
   "pygments_lexer": "ipython3",
   "version": "3.8.5"
  }
 },
 "nbformat": 4,
 "nbformat_minor": 4
}
