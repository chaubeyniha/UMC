{
 "cells": [
  {
   "cell_type": "code",
   "execution_count": 1,
   "id": "329f97fb",
   "metadata": {},
   "outputs": [
    {
     "ename": "SyntaxError",
     "evalue": "invalid syntax (3282599233.py, line 1)",
     "output_type": "error",
     "traceback": [
      "\u001b[0;36m  File \u001b[0;32m\"/tmp/ipykernel_1303546/3282599233.py\"\u001b[0;36m, line \u001b[0;32m1\u001b[0m\n\u001b[0;31m    mport torch\u001b[0m\n\u001b[0m          ^\u001b[0m\n\u001b[0;31mSyntaxError\u001b[0m\u001b[0;31m:\u001b[0m invalid syntax\n"
     ]
    }
   ],
   "source": [
    "import torch\n",
    "import math\n",
    "import matplotlib.pyplot as plt\n",
    "import numpy as np\n",
    "import gc\n",
    "\n",
    "\n",
    "class RNN_model(torch.nn.Module):\n",
    "    \"\"\"\n",
    "    pytorch implementation of neural network\n",
    "    \"\"\"\n",
    "    def __init__(self, input_dim, output_dim, hidden_dim, n_layers):\n",
    "        \"\"\"\n",
    "        :param hidden_dim: int, hidden dimension of lstm (usually 300)\n",
    "        :param input_dim: int, input dimension of the acoustic features for 1 frame mfcc (usually 429)\n",
    "        :param output_dim: int, # of trajectories to predict (usually 18)\n",
    "        :param batch_size:  int, usually 10\n",
    "        \"\"\"\n",
    "        super(Model, self).__init__()\n",
    "        \n",
    "        # dimensions \n",
    "        self.input_dim = input_dim\n",
    "        self.output_dim = output_dim\n",
    "        self.hidden_dim = hidden_dim\n",
    "        \n",
    "        # RNN Layer\n",
    "        self.rnn = nn.RNN(input_size, hidden_dim, n_layers, batch_first=True)   \n",
    "        \n",
    "        \n",
    "        # LSTM Layer\n",
    "        self.lstm_layer = torch.nn.LSTM(input_size=hidden_dim,\n",
    "                                        hidden_size=hidden_dim, num_layers=1,\n",
    "                                        bidirectional=True)\n",
    "        self.lstm_layer_2= torch.nn.LSTM(input_size=hidden_dim*2,\n",
    "                                       hidden_size=hidden_dim, num_layers=1,\n",
    "                                      bidirectional=True)\n",
    "       \n",
    "\n",
    "        self.relu = torch.nn.ReLU()\n",
    "        self.softmax = torch.nn.Softmax(dim=output_dim)\n",
    "        self.tanh = torch.nn.Tanh()\n",
    "        \n",
    "        self.all_training_loss = []\n",
    "        self.all_validation_loss = []\n",
    "        self.all_test_loss = []\n",
    "\n",
    "        "
   ]
  },
  {
   "cell_type": "code",
   "execution_count": 3,
   "id": "c77dcad2",
   "metadata": {},
   "outputs": [
    {
     "ename": "SyntaxError",
     "evalue": "invalid syntax (2015319602.py, line 1)",
     "output_type": "error",
     "traceback": [
      "\u001b[0;36m  File \u001b[0;32m\"/tmp/ipykernel_1303546/2015319602.py\"\u001b[0;36m, line \u001b[0;32m1\u001b[0m\n\u001b[0;31m    https://github.com/gabrielloye/RNN-walkthrough/blob/master/main.ipynb\u001b[0m\n\u001b[0m          ^\u001b[0m\n\u001b[0;31mSyntaxError\u001b[0m\u001b[0;31m:\u001b[0m invalid syntax\n"
     ]
    }
   ],
   "source": [
    "https://github.com/gabrielloye/RNN-walkthrough/blob/master/main.ipynb\n",
    "https://www.simplilearn.com/tutorials/deep-learning-tutorial/rnn\n",
    "https://blog.keras.io/a-ten-minute-introduction-to-sequence-to-sequence-learning-in-keras.html\n",
    "https://slazebni.cs.illinois.edu/spring17/lec26_audio.pdf\n",
    "    \n",
    "https://towardsdatascience.com/audio-deep-learning-made-simple-automatic-speech-recognition-asr-how-it-works-716cfce4c706"
   ]
  },
  {
   "cell_type": "code",
   "execution_count": null,
   "id": "14337c88",
   "metadata": {},
   "outputs": [],
   "source": []
  }
 ],
 "metadata": {
  "kernelspec": {
   "display_name": "myusc",
   "language": "python",
   "name": "myusc"
  },
  "language_info": {
   "codemirror_mode": {
    "name": "ipython",
    "version": 3
   },
   "file_extension": ".py",
   "mimetype": "text/x-python",
   "name": "python",
   "nbconvert_exporter": "python",
   "pygments_lexer": "ipython3",
   "version": "3.9.5"
  }
 },
 "nbformat": 4,
 "nbformat_minor": 5
}
