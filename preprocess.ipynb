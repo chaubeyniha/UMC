{
 "cells": [
  {
   "cell_type": "code",
   "execution_count": 1,
   "id": "811f5505",
   "metadata": {},
   "outputs": [],
   "source": [
    "import scipy.io, math, os\n",
    "import os\n",
    "import pandas as pd, numpy as np\n",
    "from help_functions import *\n",
    "import torch\n",
    "import matplotlib.pyplot as plt\n",
    "import librosa, librosa.display"
   ]
  },
  {
   "cell_type": "code",
   "execution_count": 6,
   "id": "4623215f",
   "metadata": {},
   "outputs": [],
   "source": [
    "# later among participants Cepstral Mean and Variance Normalization (CMVN) and Vocal Tract Length Normalization (VTLN) to normalize the feature and to reduce the differences among speakers\n",
    "directory = 'data/Data/F1/mat'\n",
    "counter = 1\n",
    "UL_df, LL_df, JW_df, TD_df, TB_df, TT_df, audio_df = [], [], [], [], [], [], []\n",
    "\n",
    "# Go through all the ema files and append a list so each file is found in one place\n",
    "for filename in sorted(os.listdir(directory)):\n",
    "    if filename.endswith('.mat'):\n",
    "        f = os.path.join(directory, filename)\n",
    "        mat = scipy.io.loadmat(f)\n",
    "        # takes the data that is stored at the key that precedes the data for each .mat file\n",
    "        data = mat['usctimit_ema_f1_{:03}_{:03}'.format(counter, counter + 4)]\n",
    "        counter += 5\n",
    "        \n",
    "        for i in range(0,7):\n",
    "            append_list(i)\n",
    "\n",
    "# for each ema markers and audio you will have one dataframe which has the file code and appended file data \n",
    "merged_ul = preprocess(UL_df, 'ul')      \n",
    "merged_ll = preprocess(LL_df, 'll')\n",
    "merged_jw = preprocess(JW_df, 'jw')  \n",
    "merged_td = preprocess(TD_df, 'td') \n",
    "merged_tb = preprocess(TB_df, 'tb') \n",
    "merged_tt = preprocess(TT_df, 'tt') \n",
    "merged_audio = preprocess_audio(audio_df) "
   ]
  },
  {
   "cell_type": "code",
   "execution_count": 68,
   "id": "adf1884f",
   "metadata": {},
   "outputs": [
    {
     "name": "stderr",
     "output_type": "stream",
     "text": [
      "/tmp/ipykernel_1701088/3744977871.py:130: FutureWarning: Pass sr=22050, n_fft=1024, n_mels=80, fmin=0, fmax=11025.0 as keyword args. From version 0.10 passing these as positional arguments will result in an error\n",
      "  mel_basis = librosa.filters.mel(sampling_rate, fft_size, num_mels, fmin, fmax)\n"
     ]
    },
    {
     "ename": "KeyboardInterrupt",
     "evalue": "",
     "output_type": "error",
     "traceback": [
      "\u001b[0;31m---------------------------------------------------------------------------\u001b[0m",
      "\u001b[0;31mKeyboardInterrupt\u001b[0m                         Traceback (most recent call last)",
      "\u001b[0;32m/tmp/ipykernel_1701088/2740124557.py\u001b[0m in \u001b[0;36m<module>\u001b[0;34m\u001b[0m\n\u001b[1;32m     24\u001b[0m         \u001b[0mtb\u001b[0m \u001b[0;34m=\u001b[0m \u001b[0mget_values\u001b[0m\u001b[0;34m(\u001b[0m\u001b[0mTB_df\u001b[0m\u001b[0;34m,\u001b[0m \u001b[0mmerged_tb\u001b[0m\u001b[0;34m,\u001b[0m \u001b[0mfile_code\u001b[0m\u001b[0;34m)\u001b[0m\u001b[0;34m\u001b[0m\u001b[0;34m\u001b[0m\u001b[0m\n\u001b[1;32m     25\u001b[0m         \u001b[0mtt\u001b[0m \u001b[0;34m=\u001b[0m \u001b[0mget_values\u001b[0m\u001b[0;34m(\u001b[0m\u001b[0mTT_df\u001b[0m\u001b[0;34m,\u001b[0m \u001b[0mmerged_tt\u001b[0m\u001b[0;34m,\u001b[0m \u001b[0mfile_code\u001b[0m\u001b[0;34m)\u001b[0m\u001b[0;34m\u001b[0m\u001b[0;34m\u001b[0m\u001b[0m\n\u001b[0;32m---> 26\u001b[0;31m         \u001b[0msegment\u001b[0m \u001b[0;34m=\u001b[0m \u001b[0mget_values_audio\u001b[0m\u001b[0;34m(\u001b[0m\u001b[0maudio_df\u001b[0m\u001b[0;34m,\u001b[0m \u001b[0mmerged_audio\u001b[0m\u001b[0;34m,\u001b[0m \u001b[0mfile_code\u001b[0m\u001b[0;34m)\u001b[0m\u001b[0;34m\u001b[0m\u001b[0;34m\u001b[0m\u001b[0m\n\u001b[0m\u001b[1;32m     27\u001b[0m \u001b[0;34m\u001b[0m\u001b[0m\n\u001b[1;32m     28\u001b[0m         \u001b[0;31m# also add a key-value pair for mel spectogram\u001b[0m\u001b[0;34m\u001b[0m\u001b[0;34m\u001b[0m\u001b[0;34m\u001b[0m\u001b[0m\n",
      "\u001b[0;32m/tmp/ipykernel_1701088/3744977871.py\u001b[0m in \u001b[0;36mget_values_audio\u001b[0;34m(a_df, merged_a, file_code)\u001b[0m\n\u001b[1;32m    102\u001b[0m     \u001b[0;32mfor\u001b[0m \u001b[0mi\u001b[0m \u001b[0;32min\u001b[0m \u001b[0mrange\u001b[0m\u001b[0;34m(\u001b[0m\u001b[0mlen\u001b[0m\u001b[0;34m(\u001b[0m\u001b[0ma_df\u001b[0m\u001b[0;34m)\u001b[0m\u001b[0;34m)\u001b[0m\u001b[0;34m:\u001b[0m\u001b[0;34m\u001b[0m\u001b[0;34m\u001b[0m\u001b[0m\n\u001b[1;32m    103\u001b[0m         \u001b[0;32mif\u001b[0m \u001b[0;34m(\u001b[0m\u001b[0mfile_code\u001b[0m \u001b[0;34m==\u001b[0m \u001b[0mi\u001b[0m\u001b[0;34m)\u001b[0m\u001b[0;34m:\u001b[0m\u001b[0;34m\u001b[0m\u001b[0;34m\u001b[0m\u001b[0m\n\u001b[0;32m--> 104\u001b[0;31m             \u001b[0mcurrent_df\u001b[0m \u001b[0;34m=\u001b[0m \u001b[0mmerged_a\u001b[0m\u001b[0;34m.\u001b[0m\u001b[0mloc\u001b[0m\u001b[0;34m[\u001b[0m\u001b[0mmerged_a\u001b[0m\u001b[0;34m[\u001b[0m\u001b[0;34m'File Code'\u001b[0m\u001b[0;34m]\u001b[0m \u001b[0;34m==\u001b[0m \u001b[0mi\u001b[0m\u001b[0;34m]\u001b[0m\u001b[0;34m\u001b[0m\u001b[0;34m\u001b[0m\u001b[0m\n\u001b[0m\u001b[1;32m    105\u001b[0m             \u001b[0msegment\u001b[0m \u001b[0;34m=\u001b[0m \u001b[0mcurrent_df\u001b[0m\u001b[0;34m.\u001b[0m\u001b[0miloc\u001b[0m\u001b[0;34m[\u001b[0m\u001b[0mstart_point\u001b[0m\u001b[0;34m:\u001b[0m\u001b[0mend_point\u001b[0m\u001b[0;34m,\u001b[0m \u001b[0;34m:\u001b[0m\u001b[0;34m]\u001b[0m\u001b[0;34m\u001b[0m\u001b[0;34m\u001b[0m\u001b[0m\n\u001b[1;32m    106\u001b[0m     \u001b[0;32mreturn\u001b[0m \u001b[0msegment\u001b[0m\u001b[0;34m\u001b[0m\u001b[0;34m\u001b[0m\u001b[0m\n",
      "\u001b[0;32m~/miniconda3/lib/python3.9/site-packages/pandas/core/ops/common.py\u001b[0m in \u001b[0;36mnew_method\u001b[0;34m(self, other)\u001b[0m\n\u001b[1;32m     67\u001b[0m         \u001b[0mother\u001b[0m \u001b[0;34m=\u001b[0m \u001b[0mitem_from_zerodim\u001b[0m\u001b[0;34m(\u001b[0m\u001b[0mother\u001b[0m\u001b[0;34m)\u001b[0m\u001b[0;34m\u001b[0m\u001b[0;34m\u001b[0m\u001b[0m\n\u001b[1;32m     68\u001b[0m \u001b[0;34m\u001b[0m\u001b[0m\n\u001b[0;32m---> 69\u001b[0;31m         \u001b[0;32mreturn\u001b[0m \u001b[0mmethod\u001b[0m\u001b[0;34m(\u001b[0m\u001b[0mself\u001b[0m\u001b[0;34m,\u001b[0m \u001b[0mother\u001b[0m\u001b[0;34m)\u001b[0m\u001b[0;34m\u001b[0m\u001b[0;34m\u001b[0m\u001b[0m\n\u001b[0m\u001b[1;32m     70\u001b[0m \u001b[0;34m\u001b[0m\u001b[0m\n\u001b[1;32m     71\u001b[0m     \u001b[0;32mreturn\u001b[0m \u001b[0mnew_method\u001b[0m\u001b[0;34m\u001b[0m\u001b[0;34m\u001b[0m\u001b[0m\n",
      "\u001b[0;32m~/miniconda3/lib/python3.9/site-packages/pandas/core/arraylike.py\u001b[0m in \u001b[0;36m__eq__\u001b[0;34m(self, other)\u001b[0m\n\u001b[1;32m     30\u001b[0m     \u001b[0;34m@\u001b[0m\u001b[0munpack_zerodim_and_defer\u001b[0m\u001b[0;34m(\u001b[0m\u001b[0;34m\"__eq__\"\u001b[0m\u001b[0;34m)\u001b[0m\u001b[0;34m\u001b[0m\u001b[0;34m\u001b[0m\u001b[0m\n\u001b[1;32m     31\u001b[0m     \u001b[0;32mdef\u001b[0m \u001b[0m__eq__\u001b[0m\u001b[0;34m(\u001b[0m\u001b[0mself\u001b[0m\u001b[0;34m,\u001b[0m \u001b[0mother\u001b[0m\u001b[0;34m)\u001b[0m\u001b[0;34m:\u001b[0m\u001b[0;34m\u001b[0m\u001b[0;34m\u001b[0m\u001b[0m\n\u001b[0;32m---> 32\u001b[0;31m         \u001b[0;32mreturn\u001b[0m \u001b[0mself\u001b[0m\u001b[0;34m.\u001b[0m\u001b[0m_cmp_method\u001b[0m\u001b[0;34m(\u001b[0m\u001b[0mother\u001b[0m\u001b[0;34m,\u001b[0m \u001b[0moperator\u001b[0m\u001b[0;34m.\u001b[0m\u001b[0meq\u001b[0m\u001b[0;34m)\u001b[0m\u001b[0;34m\u001b[0m\u001b[0;34m\u001b[0m\u001b[0m\n\u001b[0m\u001b[1;32m     33\u001b[0m \u001b[0;34m\u001b[0m\u001b[0m\n\u001b[1;32m     34\u001b[0m     \u001b[0;34m@\u001b[0m\u001b[0munpack_zerodim_and_defer\u001b[0m\u001b[0;34m(\u001b[0m\u001b[0;34m\"__ne__\"\u001b[0m\u001b[0;34m)\u001b[0m\u001b[0;34m\u001b[0m\u001b[0;34m\u001b[0m\u001b[0m\n",
      "\u001b[0;32m~/miniconda3/lib/python3.9/site-packages/pandas/core/series.py\u001b[0m in \u001b[0;36m_cmp_method\u001b[0;34m(self, other, op)\u001b[0m\n\u001b[1;32m   5500\u001b[0m \u001b[0;34m\u001b[0m\u001b[0m\n\u001b[1;32m   5501\u001b[0m         \u001b[0;32mwith\u001b[0m \u001b[0mnp\u001b[0m\u001b[0;34m.\u001b[0m\u001b[0merrstate\u001b[0m\u001b[0;34m(\u001b[0m\u001b[0mall\u001b[0m\u001b[0;34m=\u001b[0m\u001b[0;34m\"ignore\"\u001b[0m\u001b[0;34m)\u001b[0m\u001b[0;34m:\u001b[0m\u001b[0;34m\u001b[0m\u001b[0;34m\u001b[0m\u001b[0m\n\u001b[0;32m-> 5502\u001b[0;31m             \u001b[0mres_values\u001b[0m \u001b[0;34m=\u001b[0m \u001b[0mops\u001b[0m\u001b[0;34m.\u001b[0m\u001b[0mcomparison_op\u001b[0m\u001b[0;34m(\u001b[0m\u001b[0mlvalues\u001b[0m\u001b[0;34m,\u001b[0m \u001b[0mrvalues\u001b[0m\u001b[0;34m,\u001b[0m \u001b[0mop\u001b[0m\u001b[0;34m)\u001b[0m\u001b[0;34m\u001b[0m\u001b[0;34m\u001b[0m\u001b[0m\n\u001b[0m\u001b[1;32m   5503\u001b[0m \u001b[0;34m\u001b[0m\u001b[0m\n\u001b[1;32m   5504\u001b[0m         \u001b[0;32mreturn\u001b[0m \u001b[0mself\u001b[0m\u001b[0;34m.\u001b[0m\u001b[0m_construct_result\u001b[0m\u001b[0;34m(\u001b[0m\u001b[0mres_values\u001b[0m\u001b[0;34m,\u001b[0m \u001b[0mname\u001b[0m\u001b[0;34m=\u001b[0m\u001b[0mres_name\u001b[0m\u001b[0;34m)\u001b[0m\u001b[0;34m\u001b[0m\u001b[0;34m\u001b[0m\u001b[0m\n",
      "\u001b[0;32m~/miniconda3/lib/python3.9/site-packages/pandas/core/ops/array_ops.py\u001b[0m in \u001b[0;36mcomparison_op\u001b[0;34m(left, right, op)\u001b[0m\n\u001b[1;32m    285\u001b[0m \u001b[0;34m\u001b[0m\u001b[0m\n\u001b[1;32m    286\u001b[0m     \u001b[0;32melse\u001b[0m\u001b[0;34m:\u001b[0m\u001b[0;34m\u001b[0m\u001b[0;34m\u001b[0m\u001b[0m\n\u001b[0;32m--> 287\u001b[0;31m         \u001b[0mres_values\u001b[0m \u001b[0;34m=\u001b[0m \u001b[0m_na_arithmetic_op\u001b[0m\u001b[0;34m(\u001b[0m\u001b[0mlvalues\u001b[0m\u001b[0;34m,\u001b[0m \u001b[0mrvalues\u001b[0m\u001b[0;34m,\u001b[0m \u001b[0mop\u001b[0m\u001b[0;34m,\u001b[0m \u001b[0mis_cmp\u001b[0m\u001b[0;34m=\u001b[0m\u001b[0;32mTrue\u001b[0m\u001b[0;34m)\u001b[0m\u001b[0;34m\u001b[0m\u001b[0;34m\u001b[0m\u001b[0m\n\u001b[0m\u001b[1;32m    288\u001b[0m \u001b[0;34m\u001b[0m\u001b[0m\n\u001b[1;32m    289\u001b[0m     \u001b[0;32mreturn\u001b[0m \u001b[0mres_values\u001b[0m\u001b[0;34m\u001b[0m\u001b[0;34m\u001b[0m\u001b[0m\n",
      "\u001b[0;32m~/miniconda3/lib/python3.9/site-packages/pandas/core/ops/array_ops.py\u001b[0m in \u001b[0;36m_na_arithmetic_op\u001b[0;34m(left, right, op, is_cmp)\u001b[0m\n\u001b[1;32m    164\u001b[0m \u001b[0;34m\u001b[0m\u001b[0m\n\u001b[1;32m    165\u001b[0m     \u001b[0;32mtry\u001b[0m\u001b[0;34m:\u001b[0m\u001b[0;34m\u001b[0m\u001b[0;34m\u001b[0m\u001b[0m\n\u001b[0;32m--> 166\u001b[0;31m         \u001b[0mresult\u001b[0m \u001b[0;34m=\u001b[0m \u001b[0mfunc\u001b[0m\u001b[0;34m(\u001b[0m\u001b[0mleft\u001b[0m\u001b[0;34m,\u001b[0m \u001b[0mright\u001b[0m\u001b[0;34m)\u001b[0m\u001b[0;34m\u001b[0m\u001b[0;34m\u001b[0m\u001b[0m\n\u001b[0m\u001b[1;32m    167\u001b[0m     \u001b[0;32mexcept\u001b[0m \u001b[0mTypeError\u001b[0m\u001b[0;34m:\u001b[0m\u001b[0;34m\u001b[0m\u001b[0;34m\u001b[0m\u001b[0m\n\u001b[1;32m    168\u001b[0m         \u001b[0;32mif\u001b[0m \u001b[0mis_object_dtype\u001b[0m\u001b[0;34m(\u001b[0m\u001b[0mleft\u001b[0m\u001b[0;34m)\u001b[0m \u001b[0;32mor\u001b[0m \u001b[0mis_object_dtype\u001b[0m\u001b[0;34m(\u001b[0m\u001b[0mright\u001b[0m\u001b[0;34m)\u001b[0m \u001b[0;32mand\u001b[0m \u001b[0;32mnot\u001b[0m \u001b[0mis_cmp\u001b[0m\u001b[0;34m:\u001b[0m\u001b[0;34m\u001b[0m\u001b[0;34m\u001b[0m\u001b[0m\n",
      "\u001b[0;32m~/miniconda3/lib/python3.9/site-packages/pandas/core/computation/expressions.py\u001b[0m in \u001b[0;36mevaluate\u001b[0;34m(op, a, b, use_numexpr)\u001b[0m\n\u001b[1;32m    237\u001b[0m         \u001b[0;32mif\u001b[0m \u001b[0muse_numexpr\u001b[0m\u001b[0;34m:\u001b[0m\u001b[0;34m\u001b[0m\u001b[0;34m\u001b[0m\u001b[0m\n\u001b[1;32m    238\u001b[0m             \u001b[0;31m# error: \"None\" not callable\u001b[0m\u001b[0;34m\u001b[0m\u001b[0;34m\u001b[0m\u001b[0;34m\u001b[0m\u001b[0m\n\u001b[0;32m--> 239\u001b[0;31m             \u001b[0;32mreturn\u001b[0m \u001b[0m_evaluate\u001b[0m\u001b[0;34m(\u001b[0m\u001b[0mop\u001b[0m\u001b[0;34m,\u001b[0m \u001b[0mop_str\u001b[0m\u001b[0;34m,\u001b[0m \u001b[0ma\u001b[0m\u001b[0;34m,\u001b[0m \u001b[0mb\u001b[0m\u001b[0;34m)\u001b[0m  \u001b[0;31m# type: ignore[misc]\u001b[0m\u001b[0;34m\u001b[0m\u001b[0;34m\u001b[0m\u001b[0m\n\u001b[0m\u001b[1;32m    240\u001b[0m     \u001b[0;32mreturn\u001b[0m \u001b[0m_evaluate_standard\u001b[0m\u001b[0;34m(\u001b[0m\u001b[0mop\u001b[0m\u001b[0;34m,\u001b[0m \u001b[0mop_str\u001b[0m\u001b[0;34m,\u001b[0m \u001b[0ma\u001b[0m\u001b[0;34m,\u001b[0m \u001b[0mb\u001b[0m\u001b[0;34m)\u001b[0m\u001b[0;34m\u001b[0m\u001b[0;34m\u001b[0m\u001b[0m\n\u001b[1;32m    241\u001b[0m \u001b[0;34m\u001b[0m\u001b[0m\n",
      "\u001b[0;32m~/miniconda3/lib/python3.9/site-packages/pandas/core/computation/expressions.py\u001b[0m in \u001b[0;36m_evaluate_numexpr\u001b[0;34m(op, op_str, a, b)\u001b[0m\n\u001b[1;32m    103\u001b[0m \u001b[0;34m\u001b[0m\u001b[0m\n\u001b[1;32m    104\u001b[0m         \u001b[0;32mtry\u001b[0m\u001b[0;34m:\u001b[0m\u001b[0;34m\u001b[0m\u001b[0;34m\u001b[0m\u001b[0m\n\u001b[0;32m--> 105\u001b[0;31m             result = ne.evaluate(\n\u001b[0m\u001b[1;32m    106\u001b[0m                 \u001b[0;34mf\"a_value {op_str} b_value\"\u001b[0m\u001b[0;34m,\u001b[0m\u001b[0;34m\u001b[0m\u001b[0;34m\u001b[0m\u001b[0m\n\u001b[1;32m    107\u001b[0m                 \u001b[0mlocal_dict\u001b[0m\u001b[0;34m=\u001b[0m\u001b[0;34m{\u001b[0m\u001b[0;34m\"a_value\"\u001b[0m\u001b[0;34m:\u001b[0m \u001b[0ma_value\u001b[0m\u001b[0;34m,\u001b[0m \u001b[0;34m\"b_value\"\u001b[0m\u001b[0;34m:\u001b[0m \u001b[0mb_value\u001b[0m\u001b[0;34m}\u001b[0m\u001b[0;34m,\u001b[0m\u001b[0;34m\u001b[0m\u001b[0;34m\u001b[0m\u001b[0m\n",
      "\u001b[0;32m~/miniconda3/lib/python3.9/site-packages/numexpr/necompiler.py\u001b[0m in \u001b[0;36mevaluate\u001b[0;34m(ex, local_dict, global_dict, out, order, casting, **kwargs)\u001b[0m\n\u001b[1;32m    825\u001b[0m     \u001b[0m_numexpr_last\u001b[0m \u001b[0;34m=\u001b[0m \u001b[0mdict\u001b[0m\u001b[0;34m(\u001b[0m\u001b[0mex\u001b[0m\u001b[0;34m=\u001b[0m\u001b[0mcompiled_ex\u001b[0m\u001b[0;34m,\u001b[0m \u001b[0margnames\u001b[0m\u001b[0;34m=\u001b[0m\u001b[0mnames\u001b[0m\u001b[0;34m,\u001b[0m \u001b[0mkwargs\u001b[0m\u001b[0;34m=\u001b[0m\u001b[0mkwargs\u001b[0m\u001b[0;34m)\u001b[0m\u001b[0;34m\u001b[0m\u001b[0;34m\u001b[0m\u001b[0m\n\u001b[1;32m    826\u001b[0m     \u001b[0;32mwith\u001b[0m \u001b[0mevaluate_lock\u001b[0m\u001b[0;34m:\u001b[0m\u001b[0;34m\u001b[0m\u001b[0;34m\u001b[0m\u001b[0m\n\u001b[0;32m--> 827\u001b[0;31m         \u001b[0;32mreturn\u001b[0m \u001b[0mcompiled_ex\u001b[0m\u001b[0;34m(\u001b[0m\u001b[0;34m*\u001b[0m\u001b[0marguments\u001b[0m\u001b[0;34m,\u001b[0m \u001b[0;34m**\u001b[0m\u001b[0mkwargs\u001b[0m\u001b[0;34m)\u001b[0m\u001b[0;34m\u001b[0m\u001b[0;34m\u001b[0m\u001b[0m\n\u001b[0m\u001b[1;32m    828\u001b[0m \u001b[0;34m\u001b[0m\u001b[0m\n\u001b[1;32m    829\u001b[0m \u001b[0;34m\u001b[0m\u001b[0m\n",
      "\u001b[0;31mKeyboardInterrupt\u001b[0m: "
     ]
    }
   ],
   "source": [
    "# initalise an ema list, in this append each word information in the form of dictionary\n",
    "ema_frames = list()\n",
    "\n",
    "with open('timestamps.txt', 'r') as file:\n",
    "    timestamps = file.read().splitlines()\n",
    "    for line in timestamps:\n",
    "        split_line = line.split(',')\n",
    "        sent_number = int(split_line[-1])\n",
    "        file_code = int(split_line[0])\n",
    "        \n",
    "        # find start and end by multiplying the timestamps with the sampling rate for ema markers\n",
    "        starting_point = math.floor(float(split_line[2]) * get_srate(int(split_line[0])))\n",
    "        ending_point = math.ceil(float(split_line[3]) * get_srate(int(split_line[0])))\n",
    "        \n",
    "        # find start and end by multiplying the timestamps with the sampling rate for audio\n",
    "        start_point = (math.floor(float(split_line[2]) * 22050)) - 220\n",
    "        end_point = (math.ceil(float(split_line[3]) * 22050)) + 220\n",
    "  \n",
    "        # get data frame with all values for ema marker\n",
    "        ul = get_values(UL_df, merged_ul, file_code)\n",
    "        ll = get_values(LL_df, merged_ll, file_code)\n",
    "        jw = get_values(JW_df, merged_jw, file_code)\n",
    "        td = get_values(TD_df, merged_td, file_code)\n",
    "        tb = get_values(TB_df, merged_tb, file_code)\n",
    "        tt = get_values(TT_df, merged_tt, file_code)\n",
    "        segment = get_values_audio(audio_df, merged_audio, file_code)\n",
    "        \n",
    "        # also add a key-value pair for mel spectogram\n",
    "        raw_audio = segment[0].values\n",
    "        mel_signal = logmelfilterbank(raw_audio, 22050)\n",
    "        \n",
    "        # concate all dataframes with ema markers\n",
    "        df_data = pd.concat([ul, ll, jw, td, tb, tt], axis = 1)\n",
    "        df_data = df_data.loc[:,~df_data.columns.duplicated()]\n",
    "        \n",
    "        # retrieve meta data and combine with ema data into dictionary\n",
    "        data = {'word' : [split_line[1]],\n",
    "                'srate': [get_srate(int(split_line[0]))],\n",
    "                'sent' : [sent_number],\n",
    "                'file' : [file_code],\n",
    "                'Data'   : [df_data],\n",
    "                'Audio' : [segment],\n",
    "                'Mel' : [mel_signal] } \n",
    "        \n",
    "        ema_frames.append(data)\n",
    "\n",
    "%store ema_frames"
   ]
  },
  {
   "cell_type": "code",
   "execution_count": 84,
   "id": "e11f78bf",
   "metadata": {},
   "outputs": [
    {
     "ename": "SyntaxError",
     "evalue": "invalid syntax (2134635777.py, line 1)",
     "output_type": "error",
     "traceback": [
      "\u001b[0;36m  File \u001b[0;32m\"/tmp/ipykernel_1701088/2134635777.py\"\u001b[0;36m, line \u001b[0;32m1\u001b[0m\n\u001b[0;31m    new function that loads data makes new dataframe, check longest mel & audio & ema data, make sure it matches\u001b[0m\n\u001b[0m        ^\u001b[0m\n\u001b[0;31mSyntaxError\u001b[0m\u001b[0;31m:\u001b[0m invalid syntax\n"
     ]
    }
   ],
   "source": [
    "new function that loads data makes new dataframe, check longest mel & audio & ema data, make sure it matches \n",
    "len(mel) / 86 = audio len / 22050 = ema / 100\n",
    "then split the data\n",
    "then make 2 layer easy network"
   ]
  },
  {
   "cell_type": "code",
   "execution_count": 75,
   "id": "64c1b892",
   "metadata": {},
   "outputs": [
    {
     "data": {
      "text/plain": [
       "(3307,)"
      ]
     },
     "execution_count": 75,
     "metadata": {},
     "output_type": "execute_result"
    }
   ],
   "source": [
    "ema_frames[0]['Audio'][0][0].shape"
   ]
  },
  {
   "cell_type": "code",
   "execution_count": 83,
   "id": "8b828d11",
   "metadata": {},
   "outputs": [
    {
     "data": {
      "text/plain": [
       "array([[-2.12248028, -1.70301714, -1.69144557, ..., -3.57438756,\n",
       "        -3.56103431, -3.79373313],\n",
       "       [-2.01499731, -1.86785425, -2.01710766, ..., -3.58992807,\n",
       "        -3.48968367, -3.85847222],\n",
       "       [-1.97502479, -2.11202621, -2.39651384, ..., -3.67451751,\n",
       "        -3.51560976, -3.88569786],\n",
       "       ...,\n",
       "       [-2.22242089, -2.5883902 , -2.3268622 , ..., -3.38474767,\n",
       "        -3.3256317 , -3.34263597],\n",
       "       [-2.29226599, -2.6915183 , -2.46528117, ..., -3.60116653,\n",
       "        -3.43764685, -3.4680817 ],\n",
       "       [-2.13399237, -2.45671921, -2.51799935, ..., -3.71618905,\n",
       "        -3.66412477, -3.73014218]])"
      ]
     },
     "execution_count": 83,
     "metadata": {},
     "output_type": "execute_result"
    }
   ],
   "source": [
    "ema_frames[0]['Mel'][0]"
   ]
  },
  {
   "cell_type": "code",
   "execution_count": 39,
   "id": "12ec64db",
   "metadata": {},
   "outputs": [
    {
     "name": "stdout",
     "output_type": "stream",
     "text": [
      "done\n"
     ]
    }
   ],
   "source": [
    "# [0] : first element in list, ['Audio']: access dictionary key, [0]: data as dataframe, [0]: useful row (or use: .iloc[:, 1])\n",
    "for i in range(3435):\n",
    "     if ema_frames[i]['Data'][0].shape[0] < 1:\n",
    "            print(ema_frames[i])\n",
    "print(\"done\")"
   ]
  },
  {
   "cell_type": "code",
   "execution_count": 44,
   "id": "fbeb8683",
   "metadata": {},
   "outputs": [
    {
     "name": "stdout",
     "output_type": "stream",
     "text": [
      "Total data frames =  3435\n",
      "Shape of Audio the 70th word =  2426\n"
     ]
    },
    {
     "data": {
      "image/png": "[encoded data removed]",
      "text/plain": [
       "<Figure size 1152x216 with 1 Axes>"
      ]
     },
     "metadata": {
      "needs_background": "light"
     },
     "output_type": "display_data"
    }
   ],
   "source": [
    "print(\"Total data frames = \", len(ema_frames))\n",
    "print(\"Shape of Audio the 70th word = \", len(ema_frames[70]['Audio'][0][0]))\n",
    "\n",
    "# plot wave by audio frame of first word\n",
    "plt.figure(figsize=(16, 3))\n",
    "plt.plot(ema_frames[12]['Audio'][0][0], '-', );"
   ]
  },
  {
   "cell_type": "code",
   "execution_count": 65,
   "id": "5be9fd36",
   "metadata": {},
   "outputs": [
    {
     "name": "stdout",
     "output_type": "stream",
     "text": [
      "[ 0.00286865  0.0010376  -0.00045776 ... -0.00057983 -0.00039673\n",
      " -0.00024414]\n"
     ]
    }
   ],
   "source": [
    "# test mel spectogram for word 470\n",
    "test_file = ema_frames[70]['Audio'][0]\n",
    "print(test_file[0].values)"
   ]
  },
  {
   "cell_type": "code",
   "execution_count": null,
   "id": "e9ed4ded",
   "metadata": {},
   "outputs": [],
   "source": [
    "# plot the values in spectogram\n",
    "mel_signal = logmelfilterbank(new_file, 22050)\n",
    "\n",
    "librosa.display.specshow(mel_signal.T, sr=22050, x_axis='time', y_axis='mel', cmap='magma', \n",
    " hop_length=512)\n",
    "plt.colorbar(label='dB')\n",
    "plt.title('Mel-Spectrogram (dB)', fontdict=dict(size=18))\n",
    "plt.xlabel('Time', fontdict=dict(size=15))\n",
    "plt.ylabel('Frequency', fontdict=dict(size=15))\n",
    "plt.show()"
   ]
  },
  {
   "cell_type": "code",
   "execution_count": 43,
   "id": "65f9b835",
   "metadata": {},
   "outputs": [],
   "source": [
    "# FUNCTION TO ADD FILE CODE TO EMA DATA\n",
    "def add_file(dataframe): \n",
    "    ''' \n",
    "        Using the list, get the index as the file code and add a new column with this index information\n",
    "    '''\n",
    "    for idx, frame in enumerate(dataframe):\n",
    "        frame['File code'] = idx\n",
    "        first_column = frame.pop('File code')\n",
    "        frame.insert(0, 'File code', first_column)\n",
    "        \n",
    "\n",
    "# FUNCTION TO ADD FILE CODE TO AUDIO DATA   \n",
    "def add_file_audio(dataframe): \n",
    "    ''' \n",
    "        Using the list, get the index as the file code and add a new column with this index information\n",
    "    '''\n",
    "    for idx, frame in enumerate(dataframe):\n",
    "        data_frame = frame.insert(0, 'File Code', idx)\n",
    "        \n",
    "# FUNCTION FOR APPENDING LIST        \n",
    "def append_list(position):\n",
    "    '''\n",
    "        Append the list with the mat data and return list with dataframes from each file\n",
    "    '''\n",
    "    if(position == 0):\n",
    "        list_df = audio_df.append(pd.DataFrame.from_dict(data[0][0][2]))\n",
    "    elif(position == 1):\n",
    "        list_df = UL_df.append(pd.DataFrame.from_dict(data[0][1][2]))\n",
    "    elif(position == 2):\n",
    "        list_df = LL_df.append(pd.DataFrame.from_dict(data[0][2][2]))\n",
    "    elif(position == 3):\n",
    "        list_df = JW_df.append(pd.DataFrame.from_dict(data[0][3][2]))\n",
    "    elif(position == 4):\n",
    "        list_df = TD_df.append(pd.DataFrame.from_dict(data[0][4][2]))\n",
    "    elif(position == 5):\n",
    "        list_df = TB_df.append(pd.DataFrame.from_dict(data[0][5][2]))\n",
    "    elif(position == 6):\n",
    "        list_df = TT_df.append(pd.DataFrame.from_dict(data[0][6][2]))\n",
    "    \n",
    "    return list_df\n",
    "\n",
    "# FUNCTION FOR PREPROCESSING DATA \n",
    "def preprocess(list_name, ema_name):\n",
    "    '''\n",
    "        Prepare the data to be used.\n",
    "    '''\n",
    "    # add file code to the dataframes and merge all files\n",
    "    add_file(list_name)\n",
    "    merged_file = pd.concat(list_name, axis = 0)\n",
    "    \n",
    "    # init column names and rename \n",
    "    column1 = \"{}_0\".format(ema_name)\n",
    "    column2 = \"{}_1\".format(ema_name)\n",
    "    column3 = \"{}_2\".format(ema_name)\n",
    "    merged_file.columns = ['File Code', column1 , column2, column3]\n",
    "    \n",
    "    return merged_file\n",
    "\n",
    "def preprocess_audio(list_name):\n",
    "    '''\n",
    "         Preprocessing steps of audio dataframes\n",
    "    ''' \n",
    "    add_file_audio(list_name)\n",
    "    merged_file_audio = pd.concat(list_name, axis = 0)\n",
    "    \n",
    "    return merged_file_audio\n",
    "        \n",
    "# FUNCTION FOR OBTAINING SAMPLING RATE\n",
    "def get_srate(file_number):\n",
    "    '''\n",
    "        From the ema files get the sampling rate\n",
    "    ''' \n",
    "    directory = 'data/Data/F1/mat'\n",
    "    \n",
    "    # still needs to ignore the .DS_Store file in a better way\n",
    "    file = sorted(os.listdir(directory))[file_number + 1]\n",
    "    \n",
    "    f = os.path.join(directory, file)\n",
    "    mat = scipy.io.loadmat(f)['usctimit_ema_f1_{:03}_{:03}'.format(file_number*5 + 1, file_number*5 + 5)]\n",
    "    \n",
    "    #returns the srate which is stored here\n",
    "    return mat[0][1][1][0][0]\n",
    "\n",
    "\n",
    "# FUNCTION FOR GETTING COORIDNATES FOR WORD TIMEFRAME\n",
    "def get_values(df_list, merged_df, file_code): \n",
    "    '''\n",
    "        Goes through list of dataframe and if it matches the file code it gets the coordinates for th\n",
    "    '''\n",
    "    for i in range(len(df_list)):\n",
    "        if (file_code == i):\n",
    "            current_df = merged_df.loc[merged_df['File Code'] == i]\n",
    "            current_var = current_df.iloc[starting_point:ending_point, :]\n",
    "            \n",
    "    return current_var\n",
    "\n",
    "# FUNCTION FOR GETTING COORIDNATES FOR WORD AUDIO SEGMENT\n",
    "def get_values_audio(a_df, merged_a, file_code): \n",
    "    '''\n",
    "        Goes through list of dataframe and if it matches the file code it gets the coordinates for th\n",
    "    '''\n",
    "    for i in range(len(a_df)):\n",
    "        if (file_code == i):\n",
    "            current_df = merged_a.loc[merged_a['File Code'] == i]\n",
    "            segment = current_df.iloc[start_point:end_point, :]\n",
    "    return segment  \n",
    "\n",
    "# convert raw audio to mel_spectogram\n",
    "def logmelfilterbank(audio,\n",
    "                     sampling_rate,\n",
    "                     fft_size=1024,\n",
    "                     hop_size=256,\n",
    "                     win_length=None,\n",
    "                     window=\"hann\",\n",
    "                     num_mels=80,\n",
    "                     fmin=None,\n",
    "                     fmax=None,\n",
    "                     eps=1e-10,\n",
    "                     ):\n",
    "    ''' essentially the same as librosa.feature.melspectrogram + log10 '''\n",
    "\n",
    "    # get amplitude spectrogram\n",
    "    x_stft = librosa.stft(audio, n_fft=fft_size, hop_length=hop_size,\n",
    "                          win_length=win_length, window=window, pad_mode=\"reflect\")\n",
    "    spc = np.abs(x_stft).T  # (#frames, #bins)\n",
    "\n",
    "    # get mel basis\n",
    "    fmin = 0 if fmin is None else fmin\n",
    "    fmax = sampling_rate / 2 if fmax is None else fmax\n",
    "    mel_basis = librosa.filters.mel(sampling_rate, fft_size, num_mels, fmin, fmax)\n",
    "\n",
    "    return np.log10(np.maximum(eps, np.dot(spc, mel_basis.T)))\n",
    "\n",
    "# Create X variable \n",
    "def get_features(ema_list):\n",
    "    ''' \n",
    "        Obtain features and dereive longest length of an array\n",
    "    '''\n",
    "    features=[] #list to save features\n",
    "    features_length=[] #list to save labels\n",
    "    \n",
    "    for dct in ema_list:\n",
    "        features_length.append(len(dct['Mel'][0]))\n",
    "        features.append(dct['Mel'][0]) # array\n",
    "        \n",
    "    return(np.array(features), features_length)"
   ]
  },
  {
   "cell_type": "code",
   "execution_count": null,
   "id": "82acddaf",
   "metadata": {},
   "outputs": [],
   "source": []
  },
  {
   "cell_type": "code",
   "execution_count": null,
   "id": "19cd0527",
   "metadata": {},
   "outputs": [],
   "source": []
  }
 ],
 "metadata": {
  "kernelspec": {
   "display_name": "Python 3 (ipykernel)",
   "language": "python",
   "name": "python3"
  },
  "language_info": {
   "codemirror_mode": {
    "name": "ipython",
    "version": 3
   },
   "file_extension": ".py",
   "mimetype": "text/x-python",
   "name": "python",
   "nbconvert_exporter": "python",
   "pygments_lexer": "ipython3",
   "version": "3.9.5"
  }
 },
 "nbformat": 4,
 "nbformat_minor": 5
}
