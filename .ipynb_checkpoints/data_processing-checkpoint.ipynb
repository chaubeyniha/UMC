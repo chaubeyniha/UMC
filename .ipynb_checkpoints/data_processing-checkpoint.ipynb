{
 "cells": [
  {
   "cell_type": "code",
   "execution_count": 1,
   "metadata": {},
   "outputs": [],
   "source": [
    "# visualise different fft size\n",
    "# Plot ema etc\n",
    "# create python file in github so Poalo can check!!"
   ]
  },
  {
   "cell_type": "code",
   "execution_count": 2,
   "metadata": {},
   "outputs": [],
   "source": [
    "from numpy import array\n",
    "from scipy import stats\n",
    "import numpy as np, pandas as pd\n",
    "import librosa, os\n",
    "import matplotlib.pyplot as plt\n",
    "from functions_processing import *\n",
    "\n",
    "from sklearn.model_selection import train_test_split\n",
    "\n",
    "%store -r ema_frames"
   ]
  },
  {
   "cell_type": "code",
   "execution_count": 15,
   "metadata": {},
   "outputs": [
    {
     "name": "stdout",
     "output_type": "stream",
     "text": [
      "DescribeResult(nobs=437, minmax=(5, 81), mean=31.05263157894737, variance=296.8481409946886, skewness=0.6788327610750112, kurtosis=-0.2882228123114503)\n"
     ]
    },
    {
     "data": {
      "image/png": "[encoded data removed]",
      "text/plain": [
       "<Figure size 432x288 with 1 Axes>"
      ]
     },
     "metadata": {
      "needs_background": "light"
     },
     "output_type": "display_data"
    }
   ],
   "source": [
    "longest_mel, shortest_mel, shapes_list = get_arr_length(df) # 28885 1102\n",
    "\n",
    "# Explore spread of dataset\n",
    "list_array = np.array(shapes_list)\n",
    "description = stats.describe(list_array)\n",
    "\n",
    "print(description)\n",
    "\n",
    "#create histogram with 4 bins\n",
    "plt.hist(shapes_list, bins=100, edgecolor='black'); # ';' removes array at the end"
   ]
  },
  {
   "cell_type": "code",
   "execution_count": 34,
   "metadata": {},
   "outputs": [
    {
     "name": "stderr",
     "output_type": "stream",
     "text": [
      "C:\\Users\\nchau\\anaconda3\\envs\\env_pytorch\\lib\\site-packages\\ipykernel_launcher.py:25: FutureWarning: Pass sr=22050, n_fft=1024, n_mels=128, fmin=0, fmax=11025.0 as keyword args. From version 0.10 passing these as positional arguments will result in an error\n"
     ]
    }
   ],
   "source": [
    "df = prepare_dataframe(ema_frames)"
   ]
  },
  {
   "cell_type": "code",
   "execution_count": 72,
   "metadata": {},
   "outputs": [],
   "source": [
    "train, test = train_test_split(df, test_size=0.2)"
   ]
  },
  {
   "cell_type": "code",
   "execution_count": 103,
   "metadata": {},
   "outputs": [],
   "source": [
    "def input_dataset(input_df):\n",
    "    data = np.asarray(input_df['Input'])\n",
    "    \n",
    "    container = []\n",
    "    len_X = len(input_df)\n",
    "\n",
    "    for i in range(len_X):\n",
    "        row_i = t[i].astype('float')\n",
    "        container.append(row_i)\n",
    "    \n",
    "    container = np.array(container).reshape(len_X, 128, 95, 1)   # batch size, height (features), width (duration), channel\n",
    "    \n",
    "    return container"
   ]
  },
  {
   "cell_type": "code",
   "execution_count": 104,
   "metadata": {},
   "outputs": [],
   "source": [
    "X_train = input_dataset(train)\n",
    "X_test = input_dataset(test)"
   ]
  },
  {
   "cell_type": "code",
   "execution_count": 107,
   "metadata": {},
   "outputs": [
    {
     "name": "stdout",
     "output_type": "stream",
     "text": [
      "Training shape: (349, 128, 95, 1)\n",
      "349 sample, 128 x 95 size mel spectogram.\n",
      "\n",
      "Test shape: (88, 128, 95, 1)\n",
      "88 sample, 128 x 95 size mel spectogram.\n",
      "\n"
     ]
    }
   ],
   "source": [
    "print('Training shape:', X_train.shape)\n",
    "print(X_train.shape[0], 'sample,',X_train.shape[1] ,'x',X_train.shape[2] ,'size mel spectogram.\\n')\n",
    "print('Test shape:', X_test.shape)\n",
    "print(X_test.shape[0], 'sample,',X_test.shape[1] ,'x',X_test.shape[2] ,'size mel spectogram.\\n')"
   ]
  },
  {
   "cell_type": "code",
   "execution_count": null,
   "metadata": {},
   "outputs": [],
   "source": [
    "def target_dataset(input_df):\n",
    "    data = np.asarray(input_df['Label 1'])\n",
    "    \n",
    "    container = []\n",
    "    len_X = len(input_df)\n",
    "\n",
    "    for i in range(len_X):\n",
    "        row_i = t[i].astype('float')\n",
    "        container.append(row_i)\n",
    "    \n",
    "    container = np.array(container).reshape(len_X, 128, 95, 1)   # batch size, height, width, channel\n",
    "    \n",
    "    return container"
   ]
  },
  {
   "cell_type": "code",
   "execution_count": 114,
   "metadata": {},
   "outputs": [],
   "source": [
    "y_train = np.asarray(train['Label 1'])\n",
    "y_test = np.asarray(test ['Label 1'])"
   ]
  },
  {
   "cell_type": "code",
   "execution_count": 115,
   "metadata": {},
   "outputs": [],
   "source": [
    "# Tuple with height and width of mel used to reshape arrays.\n",
    "mel_height = 128\n",
    "mel_width = 95\n",
    "\n",
    "mel_size_flat = mel_height * mel_width\n",
    "mel_shape = (mel_height, mel_width)\n",
    "\n",
    "# Number of colour channels for the images: 1 channel for gray-scale.\n",
    "num_channels = 1"
   ]
  },
  {
   "cell_type": "code",
   "execution_count": 117,
   "metadata": {},
   "outputs": [],
   "source": [
    "train_X = X_train\n",
    "train_Y = Y_train\n",
    "new_train_X = train_X.reshape(X_train.shape[0],mel_size_flat)\n",
    "new_test_X = X_test.reshape(X_test.shape[0],mel_size_flat)"
   ]
  },
  {
   "cell_type": "code",
   "execution_count": 121,
   "metadata": {},
   "outputs": [
    {
     "name": "stdout",
     "output_type": "stream",
     "text": [
      "Training set (images) shape: (349, 12160)\n",
      "Training set (labels) shape: (349,)\n",
      "Test set (images) shape: (88, 12160)\n",
      "Test set (labels) shape: (88,)\n"
     ]
    }
   ],
   "source": [
    "# Shapes of training set\n",
    "print(\"Training set (images) shape: {shape}\".format(shape=new_train_X.shape))\n",
    "print(\"Training set (labels) shape: {shape}\".format(shape=y_train .shape))\n",
    "\n",
    "# Shapes of test set\n",
    "print(\"Test set (images) shape: {shape}\".format(shape=new_test_X.shape))\n",
    "print(\"Test set (labels) shape: {shape}\".format(shape=y_test.shape))"
   ]
  },
  {
   "cell_type": "code",
   "execution_count": 123,
   "metadata": {},
   "outputs": [],
   "source": [
    "# architecture hyper-parameter\n",
    "learning_rate = 0.001\n",
    "training_iters = 40000\n",
    "batch_size = 16\n",
    "display_step = 20\n",
    "\n",
    "n_input = mel_size_flat # 64x64 image\n",
    "dropout = 0.75 "
   ]
  },
  {
   "cell_type": "code",
   "execution_count": null,
   "metadata": {},
   "outputs": [],
   "source": []
  },
  {
   "cell_type": "code",
   "execution_count": 4,
   "metadata": {},
   "outputs": [],
   "source": [
    "# Paolo also used it from pytorch\n",
    "# normalise output, you can keep it between 0 and 1 so \n",
    "# it is easier for the model to be trained, MinMaxScaler for each label independently\n",
    "\n",
    "from torch.utils.data import Dataset, DataLoader\n",
    "\n",
    "class CNNDataSet(Dataset):\n",
    "    '''\n",
    "    Instance of class which iterates through this class when you need a new batch of a model.\n",
    "    ''' \n",
    "    def __init__(self, df):\n",
    "        # Initialize data, download, etc.\n",
    "        # read with numpy or pandas\n",
    "        self.n_samples = df.shape[0]\n",
    "\n",
    "        # here the first column is the class label, the rest are the features\n",
    "        self.x_data = torch.tensor(df['Inputs'].values) # size [n_samples, n_features]\n",
    "        self.y_data = torch.tensor(df['Label 1', 'Label 2', 'Label 3', 'Label 4', 'Label 5', 'Label 6',\n",
    "                  'Label 7', 'Label 8', 'Label 9', 'Label 10', 'Label 11', 'Label 12'].values) # size [n_samples, 1]\n",
    "\n",
    "    # support indexing such that dataset[i] can be used to get i-th sample\n",
    "    def __getitem__(self, index):\n",
    "        return self.x_data[index], self.y_data[index]\n",
    "\n",
    "    # we can call len(dataset) to return the size\n",
    "    def __len__(self):\n",
    "        return self.n_samples\n",
    "     \n",
    "# 12 x duration is the output\n",
    "# compute loss also on padding part so how do you train model not on padding\n",
    "# paolo split data into length of word batches where within batch difference was less than 5 ms\n"
   ]
  },
  {
   "cell_type": "code",
   "execution_count": 35,
   "metadata": {},
   "outputs": [],
   "source": [
    "df.to_csv(r'C:\\\\Users\\\\nchau\\\\Documents\\\\Work\\\\Nick Ramsey\\\\Code\\\\UMC\\\\data\\\\processed_data.csv', index=False)"
   ]
  },
  {
   "cell_type": "code",
   "execution_count": 33,
   "metadata": {},
   "outputs": [],
   "source": [
    "import pandas as pd \n",
    "\n",
    "# convert raw audio to mel_spectogram\n",
    "def logmelfilterbank(audio,\n",
    "                     sampling_rate,\n",
    "                     fft_size=1024,\n",
    "                     hop_size=220,                                 # too match ema sampling rate\n",
    "                     win_length=None,\n",
    "                     window=\"hann\",\n",
    "                     num_mels=128,\n",
    "                     fmin=None,\n",
    "                     fmax=None,\n",
    "                     eps=1e-10,\n",
    "                     ):\n",
    "    ''' essentially the same as librosa.feature.melspectrogram + log10 '''\n",
    "\n",
    "    # get amplitude spectrogram\n",
    "    x_stft = librosa.stft(audio, n_fft=fft_size, hop_length=hop_size,\n",
    "                          win_length=win_length, window=window, pad_mode=\"reflect\")\n",
    "    spc = np.abs(x_stft).T  # (#frames, #bins)\n",
    "\n",
    "    # get mel basis\n",
    "    fmin = 0 if fmin is None else fmin\n",
    "    fmax = sampling_rate / 2 if fmax is None else fmax\n",
    "    mel_basis = librosa.filters.mel(sampling_rate, fft_size, num_mels, fmin, fmax)\n",
    "\n",
    "    return np.log10(np.maximum(eps, np.dot(spc, mel_basis.T)))\n",
    "\n",
    "# get longest and shortest mel spectogram array length >> 28885\n",
    "def get_arr_length(df):\n",
    "    \"\"\"Loads data and tracks longest mel spectogram array\n",
    "    :return counter: the longest length of array\n",
    "    \"\"\"\n",
    "    counter_longest = 0\n",
    "    counter_shortest = 3000 # arbritary number\n",
    "    shapes = []\n",
    "    shape_audio = []\n",
    "    \n",
    "    for i in range(len(df)):\n",
    "        mel_array = df.iloc[i, :]['Input']\n",
    "        shapes.append(mel_array.shape[0])\n",
    "        \n",
    "        if mel_array.shape[0] > counter_longest:\n",
    "            counter_longest = mel_array.shape[0]    \n",
    "            \n",
    "        elif mel_array.shape[0] < counter_shortest:\n",
    "            counter_shortest = mel_array.shape[0]\n",
    "            \n",
    "    return counter_longest, counter_shortest, shapes\n",
    " \n",
    "def prepare_dataframe(ema_list):\n",
    "    df = pd.DataFrame(columns=['Input', 'Label 1', 'Label 2', 'Label 3', 'Label 4', 'Label 5', 'Label 6',\n",
    "                              'Label 7', 'Label 8', 'Label 9', 'Label 10', 'Label 11', 'Label 12'])\n",
    "    \n",
    "    for i in range(len(ema_list)):\n",
    "        waveform = ema_list[i]['Audio'][0][0].values\n",
    "        mel_arr = logmelfilterbank(waveform, 22050)\n",
    "        mel_arr = librosa.util.fix_length(mel_arr.T, size=95)                             # add padding\n",
    "        \n",
    "        ema_columns = ['ul_0', 'ul_1', 'll_0', 'll_1', 'jw_0', 'jw_1', 'tt_0', 'tt_1', 'tb_0', 'tb_1', 'td_0', 'td_1']\n",
    "        ema_markers = ema_list[i]['Data'][0].loc[:, ema_columns]\n",
    "        ema_arr = (ema_markers.to_numpy()).T\n",
    "        \n",
    "        df = df.append({'Input': mel_arr, 'Label 1': ema_arr[0], 'Label 2': ema_arr[1], 'Label 3': ema_arr[2], \n",
    "                        'Label 4': ema_arr[3], 'Label 5': ema_arr[4], 'Label 6': ema_arr[5], 'Label 7': ema_arr[6], \n",
    "                        'Label 8': ema_arr[7], 'Label 9': ema_arr[8], 'Label 10': ema_arr[9], 'Label 11': ema_arr[10], \n",
    "                        'Label 12': ema_arr[11]}, ignore_index=True)\n",
    "        \n",
    "    return df"
   ]
  },
  {
   "cell_type": "code",
   "execution_count": null,
   "metadata": {},
   "outputs": [],
   "source": []
  }
 ],
 "metadata": {
  "kernelspec": {
   "display_name": "Python (env_pytorch)",
   "language": "python",
   "name": "env_pytorch"
  },
  "language_info": {
   "codemirror_mode": {
    "name": "ipython",
    "version": 3
   },
   "file_extension": ".py",
   "mimetype": "text/x-python",
   "name": "python",
   "nbconvert_exporter": "python",
   "pygments_lexer": "ipython3",
   "version": "3.6.13"
  }
 },
 "nbformat": 4,
 "nbformat_minor": 5
}
